{
 "cells": [
  {
   "cell_type": "markdown",
   "id": "6eda6ac1",
   "metadata": {},
   "source": [
    "# Introduction:\n",
    "\n",
    "\n",
    "This Assignment is for a Lending case study to be performed.\n",
    "Similar to a real world business problems, here is a Step by Step Process followed to Analyse the Data and reach to a percievable conclusion. Method used will be through EDA - EXPLORATORY DATA  ANALYSIS\n",
    "\n",
    "Based on the Data Analysis , Also we intend to have a deeper understanding of Risk Analysis when lending Money to different customers"
   ]
  },
  {
   "cell_type": "markdown",
   "id": "d20cc57e",
   "metadata": {},
   "source": [
    "# CONTENTS:\n",
    "   \n",
    "   ## 1.Introduction\n",
    "   ## 2. Business Understanding\n",
    "   ## 3. Business Objectives\n",
    "   \n",
    "   ## 4. DATA UNDERSTANDING\n",
    "   \n",
    "   ## 5. DATA CLEANING AND MANIPULATION\n",
    " \n",
    "   ## 6. DATA ANALYSIS\n",
    "   ###    6a.Univariate Analysis\n",
    "   ###    6b.Bivariate Analysis\n",
    "   ###    6c.Segmented Univariate Analysis\n",
    " \n",
    " \n",
    "   ## 7. RECOMMENDATIONS\n",
    " \n",
    "   ## 8. CONCLUSIONS\n",
    " "
   ]
  },
  {
   "cell_type": "markdown",
   "id": "9a30ef05",
   "metadata": {},
   "source": [
    "# Business Understanding\n",
    "Working for a consumer finance company which specialises in lending various types of loans to customers. When the company receives a loan application, the company has to make a decision for loan approval based on the applicant’s profile. \n",
    "\n",
    "Two Major types of risks are associated with the bank’s decision:\n",
    "    If the applicant is likely to repay the loan, then not approving the loan results in a loss of business to the company\n",
    "    If the applicant is not likely to repay the loan, i.e. he/she is likely to default, then approving the loan may lead to a       financial loss for the company\n",
    "    \n",
    "    \n",
    "The data given below contains the information about past loan applicants and whether they ‘defaulted’ or not. The aim is to identify patterns which indicate if a person is likely to default, which may be used for taking actions such as denying the loan, reducing the amount of loan, lending (to risky applicants) at a higher interest rate, etc.\n",
    "We will try to use EDA to understand how consumer attributes and loan attributes influence the tendency of default."
   ]
  },
  {
   "cell_type": "markdown",
   "id": "666ddcb1",
   "metadata": {},
   "source": [
    "# Business Objectives\n",
    "    a. This company is the largest online loan marketplace, facilitating personal loans, business loans, and financing of medical procedures. Borrowers can easily access lower interest rate loans through a fast online interface. \n",
    "    \n",
    "    b. Like most other lending companies, lending loans to ‘risky’ applicants is the largest source of financial loss              (called credit loss). The credit loss is the amount of money lost by the lender when the borrower refuses to pay or runs away with the money owed. In other words, borrowers who default cause the largest amount of loss to the lenders. In this case, the customers labelled as 'charged-off' are the 'defaulters'. \n",
    "    \n",
    "    c. If one is able to identify these risky loan applicants, then such loans can be reduced thereby cutting down the amount of credit loss. Identification of such applicants using EDA is the aim of this case study.\n",
    "\n",
    "    d. In other words, the company wants to understand the driving factors (or driver variables) behind loan default, i.e. the variables which are strong indicators of default.  The company can utilise this knowledge for its portfolio and risk assessment. \n",
    "\n",
    "\n",
    "    e.To develop our understanding of the domain, We are advised to independently research a little about risk analytics (understanding the types of variables and their significance should be enough)."
   ]
  },
  {
   "cell_type": "markdown",
   "id": "5d6e6e4a",
   "metadata": {},
   "source": [
    " # ======================================================================================  ----------------------------------[ > DATA UNDERSTANDING < ]----------------------------------===================================================================\n",
    " \n",
    " \n",
    " \n",
    " \n"
   ]
  },
  {
   "cell_type": "markdown",
   "id": "7782101f",
   "metadata": {},
   "source": [
    "# Step - 1 : Initial Approach to get into Data Understanding is to Source the DATA, before sourcing we add the necessary libraries to process this\n",
    "\n",
    "LIBRARY IMPORT - PYTHON\n",
    "We are importing all the necessary Python Libraries to pull and load Data on to the Frames\n",
    "Libraries that shall be needed , Numpy for Arithematic, Pandas for Data Analystics, \n",
    "Seaborn for Visualization, Matplotlib for Mathematical plots, Plotly for graphing, analytics, and statistics tools. The \n",
    "\n",
    "\n",
    "                          [MEANING OF THE VARIABLES assigned to PYTHON LIBRARIES ARE DESCRIBED AS BELOW]"
   ]
  },
  {
   "cell_type": "markdown",
   "id": "60fb8a12",
   "metadata": {},
   "source": [
    "# Here we used Seaborn Majorly instead of writing too many long code"
   ]
  },
  {
   "cell_type": "code",
   "execution_count": 98,
   "id": "fd9895de",
   "metadata": {},
   "outputs": [],
   "source": [
    "import numpy as np                        #Importing Numpy             and stored in variable 'np'\n",
    "import pandas as pd                       #Importing Pandas            and stored in variable 'pd'\n",
    "from matplotlib import pyplot as plt      #Importing Matplotlib        and stored in variable 'plt'\n",
    "import plotly.offline as py               #Importing plotly.offline    and stored in variable 'py'\n",
    "import plotly.graph_objs as go            #Importing plotly.graph_objs and stored in variable 'go'\n",
    "import plotly.tools as tls                #Importing Plotly.tools      and stored in variable 'tls'\n",
    "import seaborn as sns                     #Importing Seaborn           and stored in variable 'sns'"
   ]
  },
  {
   "cell_type": "markdown",
   "id": "029cea15",
   "metadata": {},
   "source": [
    "#                       ----------------------------------------------------------------------------------------------------------------"
   ]
  },
  {
   "cell_type": "markdown",
   "id": "32ca854f",
   "metadata": {},
   "source": [
    "# STEP - 2 : In order to understand the data, we need to load the data into the data frame provided by PANDAS library\n",
    "\n",
    "\n",
    "                                           \n",
    "                                           \n",
    "                                         \n",
    "                                  In order to make it available Online for our use:                                    \n",
    "   We Uploaded the File loan.csv to           https://s3.ap-south-1.amazonaws.com/myawscloud.uk/loan.csv\n",
    "            \n",
    " We Uploaded the File Data_Dictionary.xlsx to https://s3.ap-sougth-1.amazonaws.com/myawscloud.uk/Data_Dictionary.xlsx\n",
    "These Files are uploaded in AWS S3 directories in Online AWS Storage Account of Shasheesh Rane\n",
    "   \n",
    "      \n",
    "                                              PROCESS = DATA SOURCING:\n",
    "                                           \n",
    "            Here we have imported the Data Frame into the Variable \"df\", by using is a PANDAS Function read_csv().                \n",
    "               Here we mention the filename or URL in closed bracket here we are using the online URL    \n",
    " \n",
    " \n",
    " "
   ]
  },
  {
   "cell_type": "code",
   "execution_count": 99,
   "id": "ae685f0b",
   "metadata": {},
   "outputs": [],
   "source": [
    "#DATA LOADING IN PANDAS FROM ONLINE FILES\n",
    "df      = pd.read_csv('https://s3.ap-south-1.amazonaws.com/myawscloud.uk/loan.csv', low_memory=False)         \n",
    "df_dict = pd.read_excel('https://s3.ap-south-1.amazonaws.com/myawscloud.uk/Data_Dictionary.xlsx')\n",
    "\n",
    "#Alternatively Loading Data from Offline Local Directory, remove the #TAG from the below two lines and load the data.\n",
    "#df      = pd.read_csv('./loan.csv', low_memory=False)         \n",
    "#df_dict = pd.read_excel('./Data_Dictionary.xlsx')\n",
    "\n",
    "#ALL ROWS AND COLUMNS TO BE DISPLAYED IN PANDAS - Optional - as a Function\n",
    "def Display_All():\n",
    "    pd.set_option('display.max_colwidth', 1000, 'display.max_rows', None, 'display.max_columns', None)\n",
    "\n",
    "def Display_Reset():\n",
    "    pd.reset_option('^display.', silent=True)\n",
    "    \n"
   ]
  },
  {
   "cell_type": "markdown",
   "id": "e8215acc",
   "metadata": {},
   "source": [
    "#                       ----------------------------------------------------------------------------------------------------------------"
   ]
  },
  {
   "cell_type": "markdown",
   "id": "7ce9bef1",
   "metadata": {},
   "source": [
    "# Step 3 :  here we are trying to get the rough idea of what the data looks like by using commands, \n",
    "     ## df.head()      ----------- Displaying first 5 rows of the column.\n",
    "     ## df.info()      ----------- Displaying information about the size of the data, no. of rows, columns, data types.\n",
    "     ## df.shape       ----------- Displays ROWS X COLUMNS.\n",
    "     ## df.describe()  ----------- Displays count, mean, std, min, 25%, 50% , 75% , max.\n",
    "\n",
    "\n"
   ]
  },
  {
   "cell_type": "code",
   "execution_count": 102,
   "id": "61d1728d",
   "metadata": {},
   "outputs": [
    {
     "data": {
      "text/html": [
       "<div>\n",
       "<style scoped>\n",
       "    .dataframe tbody tr th:only-of-type {\n",
       "        vertical-align: middle;\n",
       "    }\n",
       "\n",
       "    .dataframe tbody tr th {\n",
       "        vertical-align: top;\n",
       "    }\n",
       "\n",
       "    .dataframe thead th {\n",
       "        text-align: right;\n",
       "    }\n",
       "</style>\n",
       "<table border=\"1\" class=\"dataframe\">\n",
       "  <thead>\n",
       "    <tr style=\"text-align: right;\">\n",
       "      <th></th>\n",
       "      <th>id</th>\n",
       "      <th>member_id</th>\n",
       "      <th>loan_amnt</th>\n",
       "      <th>funded_amnt</th>\n",
       "      <th>funded_amnt_inv</th>\n",
       "      <th>term</th>\n",
       "      <th>int_rate</th>\n",
       "      <th>installment</th>\n",
       "      <th>grade</th>\n",
       "      <th>sub_grade</th>\n",
       "      <th>...</th>\n",
       "      <th>num_tl_90g_dpd_24m</th>\n",
       "      <th>num_tl_op_past_12m</th>\n",
       "      <th>pct_tl_nvr_dlq</th>\n",
       "      <th>percent_bc_gt_75</th>\n",
       "      <th>pub_rec_bankruptcies</th>\n",
       "      <th>tax_liens</th>\n",
       "      <th>tot_hi_cred_lim</th>\n",
       "      <th>total_bal_ex_mort</th>\n",
       "      <th>total_bc_limit</th>\n",
       "      <th>total_il_high_credit_limit</th>\n",
       "    </tr>\n",
       "  </thead>\n",
       "  <tbody>\n",
       "    <tr>\n",
       "      <th>0</th>\n",
       "      <td>1077501</td>\n",
       "      <td>1296599</td>\n",
       "      <td>5000</td>\n",
       "      <td>5000</td>\n",
       "      <td>4975.0</td>\n",
       "      <td>36 months</td>\n",
       "      <td>10.65%</td>\n",
       "      <td>162.87</td>\n",
       "      <td>B</td>\n",
       "      <td>B2</td>\n",
       "      <td>...</td>\n",
       "      <td>NaN</td>\n",
       "      <td>NaN</td>\n",
       "      <td>NaN</td>\n",
       "      <td>NaN</td>\n",
       "      <td>0.0</td>\n",
       "      <td>0.0</td>\n",
       "      <td>NaN</td>\n",
       "      <td>NaN</td>\n",
       "      <td>NaN</td>\n",
       "      <td>NaN</td>\n",
       "    </tr>\n",
       "    <tr>\n",
       "      <th>1</th>\n",
       "      <td>1077430</td>\n",
       "      <td>1314167</td>\n",
       "      <td>2500</td>\n",
       "      <td>2500</td>\n",
       "      <td>2500.0</td>\n",
       "      <td>60 months</td>\n",
       "      <td>15.27%</td>\n",
       "      <td>59.83</td>\n",
       "      <td>C</td>\n",
       "      <td>C4</td>\n",
       "      <td>...</td>\n",
       "      <td>NaN</td>\n",
       "      <td>NaN</td>\n",
       "      <td>NaN</td>\n",
       "      <td>NaN</td>\n",
       "      <td>0.0</td>\n",
       "      <td>0.0</td>\n",
       "      <td>NaN</td>\n",
       "      <td>NaN</td>\n",
       "      <td>NaN</td>\n",
       "      <td>NaN</td>\n",
       "    </tr>\n",
       "    <tr>\n",
       "      <th>2</th>\n",
       "      <td>1077175</td>\n",
       "      <td>1313524</td>\n",
       "      <td>2400</td>\n",
       "      <td>2400</td>\n",
       "      <td>2400.0</td>\n",
       "      <td>36 months</td>\n",
       "      <td>15.96%</td>\n",
       "      <td>84.33</td>\n",
       "      <td>C</td>\n",
       "      <td>C5</td>\n",
       "      <td>...</td>\n",
       "      <td>NaN</td>\n",
       "      <td>NaN</td>\n",
       "      <td>NaN</td>\n",
       "      <td>NaN</td>\n",
       "      <td>0.0</td>\n",
       "      <td>0.0</td>\n",
       "      <td>NaN</td>\n",
       "      <td>NaN</td>\n",
       "      <td>NaN</td>\n",
       "      <td>NaN</td>\n",
       "    </tr>\n",
       "  </tbody>\n",
       "</table>\n",
       "<p>3 rows × 111 columns</p>\n",
       "</div>"
      ],
      "text/plain": [
       "        id  member_id  loan_amnt  funded_amnt  funded_amnt_inv        term  \\\n",
       "0  1077501    1296599       5000         5000           4975.0   36 months   \n",
       "1  1077430    1314167       2500         2500           2500.0   60 months   \n",
       "2  1077175    1313524       2400         2400           2400.0   36 months   \n",
       "\n",
       "  int_rate  installment grade sub_grade  ... num_tl_90g_dpd_24m  \\\n",
       "0   10.65%       162.87     B        B2  ...                NaN   \n",
       "1   15.27%        59.83     C        C4  ...                NaN   \n",
       "2   15.96%        84.33     C        C5  ...                NaN   \n",
       "\n",
       "  num_tl_op_past_12m pct_tl_nvr_dlq  percent_bc_gt_75 pub_rec_bankruptcies  \\\n",
       "0                NaN            NaN               NaN                  0.0   \n",
       "1                NaN            NaN               NaN                  0.0   \n",
       "2                NaN            NaN               NaN                  0.0   \n",
       "\n",
       "  tax_liens tot_hi_cred_lim total_bal_ex_mort total_bc_limit  \\\n",
       "0       0.0             NaN               NaN            NaN   \n",
       "1       0.0             NaN               NaN            NaN   \n",
       "2       0.0             NaN               NaN            NaN   \n",
       "\n",
       "  total_il_high_credit_limit  \n",
       "0                        NaN  \n",
       "1                        NaN  \n",
       "2                        NaN  \n",
       "\n",
       "[3 rows x 111 columns]"
      ]
     },
     "execution_count": 102,
     "metadata": {},
     "output_type": "execute_result"
    }
   ],
   "source": [
    "df.head(3)"
   ]
  },
  {
   "cell_type": "code",
   "execution_count": 103,
   "id": "9168db9b",
   "metadata": {},
   "outputs": [
    {
     "name": "stdout",
     "output_type": "stream",
     "text": [
      "<class 'pandas.core.frame.DataFrame'>\n",
      "RangeIndex: 39717 entries, 0 to 39716\n",
      "Columns: 111 entries, id to total_il_high_credit_limit\n",
      "dtypes: float64(74), int64(13), object(24)\n",
      "memory usage: 33.6+ MB\n"
     ]
    }
   ],
   "source": [
    "df.info()"
   ]
  },
  {
   "cell_type": "code",
   "execution_count": 104,
   "id": "eba60809",
   "metadata": {},
   "outputs": [
    {
     "data": {
      "text/plain": [
       "(39717, 111)"
      ]
     },
     "execution_count": 104,
     "metadata": {},
     "output_type": "execute_result"
    }
   ],
   "source": [
    "df.shape"
   ]
  },
  {
   "cell_type": "code",
   "execution_count": 105,
   "id": "cce1b963",
   "metadata": {},
   "outputs": [
    {
     "data": {
      "text/html": [
       "<div>\n",
       "<style scoped>\n",
       "    .dataframe tbody tr th:only-of-type {\n",
       "        vertical-align: middle;\n",
       "    }\n",
       "\n",
       "    .dataframe tbody tr th {\n",
       "        vertical-align: top;\n",
       "    }\n",
       "\n",
       "    .dataframe thead th {\n",
       "        text-align: right;\n",
       "    }\n",
       "</style>\n",
       "<table border=\"1\" class=\"dataframe\">\n",
       "  <thead>\n",
       "    <tr style=\"text-align: right;\">\n",
       "      <th></th>\n",
       "      <th>id</th>\n",
       "      <th>member_id</th>\n",
       "      <th>loan_amnt</th>\n",
       "      <th>funded_amnt</th>\n",
       "      <th>funded_amnt_inv</th>\n",
       "      <th>installment</th>\n",
       "      <th>annual_inc</th>\n",
       "      <th>dti</th>\n",
       "      <th>delinq_2yrs</th>\n",
       "      <th>inq_last_6mths</th>\n",
       "      <th>...</th>\n",
       "      <th>num_tl_90g_dpd_24m</th>\n",
       "      <th>num_tl_op_past_12m</th>\n",
       "      <th>pct_tl_nvr_dlq</th>\n",
       "      <th>percent_bc_gt_75</th>\n",
       "      <th>pub_rec_bankruptcies</th>\n",
       "      <th>tax_liens</th>\n",
       "      <th>tot_hi_cred_lim</th>\n",
       "      <th>total_bal_ex_mort</th>\n",
       "      <th>total_bc_limit</th>\n",
       "      <th>total_il_high_credit_limit</th>\n",
       "    </tr>\n",
       "  </thead>\n",
       "  <tbody>\n",
       "    <tr>\n",
       "      <th>count</th>\n",
       "      <td>3.971700e+04</td>\n",
       "      <td>3.971700e+04</td>\n",
       "      <td>39717.000000</td>\n",
       "      <td>39717.000000</td>\n",
       "      <td>39717.000000</td>\n",
       "      <td>39717.000000</td>\n",
       "      <td>3.971700e+04</td>\n",
       "      <td>39717.000000</td>\n",
       "      <td>39717.000000</td>\n",
       "      <td>39717.000000</td>\n",
       "      <td>...</td>\n",
       "      <td>0.0</td>\n",
       "      <td>0.0</td>\n",
       "      <td>0.0</td>\n",
       "      <td>0.0</td>\n",
       "      <td>39020.000000</td>\n",
       "      <td>39678.0</td>\n",
       "      <td>0.0</td>\n",
       "      <td>0.0</td>\n",
       "      <td>0.0</td>\n",
       "      <td>0.0</td>\n",
       "    </tr>\n",
       "    <tr>\n",
       "      <th>mean</th>\n",
       "      <td>6.831319e+05</td>\n",
       "      <td>8.504636e+05</td>\n",
       "      <td>11219.443815</td>\n",
       "      <td>10947.713196</td>\n",
       "      <td>10397.448868</td>\n",
       "      <td>324.561922</td>\n",
       "      <td>6.896893e+04</td>\n",
       "      <td>13.315130</td>\n",
       "      <td>0.146512</td>\n",
       "      <td>0.869200</td>\n",
       "      <td>...</td>\n",
       "      <td>NaN</td>\n",
       "      <td>NaN</td>\n",
       "      <td>NaN</td>\n",
       "      <td>NaN</td>\n",
       "      <td>0.043260</td>\n",
       "      <td>0.0</td>\n",
       "      <td>NaN</td>\n",
       "      <td>NaN</td>\n",
       "      <td>NaN</td>\n",
       "      <td>NaN</td>\n",
       "    </tr>\n",
       "    <tr>\n",
       "      <th>std</th>\n",
       "      <td>2.106941e+05</td>\n",
       "      <td>2.656783e+05</td>\n",
       "      <td>7456.670694</td>\n",
       "      <td>7187.238670</td>\n",
       "      <td>7128.450439</td>\n",
       "      <td>208.874874</td>\n",
       "      <td>6.379377e+04</td>\n",
       "      <td>6.678594</td>\n",
       "      <td>0.491812</td>\n",
       "      <td>1.070219</td>\n",
       "      <td>...</td>\n",
       "      <td>NaN</td>\n",
       "      <td>NaN</td>\n",
       "      <td>NaN</td>\n",
       "      <td>NaN</td>\n",
       "      <td>0.204324</td>\n",
       "      <td>0.0</td>\n",
       "      <td>NaN</td>\n",
       "      <td>NaN</td>\n",
       "      <td>NaN</td>\n",
       "      <td>NaN</td>\n",
       "    </tr>\n",
       "    <tr>\n",
       "      <th>min</th>\n",
       "      <td>5.473400e+04</td>\n",
       "      <td>7.069900e+04</td>\n",
       "      <td>500.000000</td>\n",
       "      <td>500.000000</td>\n",
       "      <td>0.000000</td>\n",
       "      <td>15.690000</td>\n",
       "      <td>4.000000e+03</td>\n",
       "      <td>0.000000</td>\n",
       "      <td>0.000000</td>\n",
       "      <td>0.000000</td>\n",
       "      <td>...</td>\n",
       "      <td>NaN</td>\n",
       "      <td>NaN</td>\n",
       "      <td>NaN</td>\n",
       "      <td>NaN</td>\n",
       "      <td>0.000000</td>\n",
       "      <td>0.0</td>\n",
       "      <td>NaN</td>\n",
       "      <td>NaN</td>\n",
       "      <td>NaN</td>\n",
       "      <td>NaN</td>\n",
       "    </tr>\n",
       "    <tr>\n",
       "      <th>25%</th>\n",
       "      <td>5.162210e+05</td>\n",
       "      <td>6.667800e+05</td>\n",
       "      <td>5500.000000</td>\n",
       "      <td>5400.000000</td>\n",
       "      <td>5000.000000</td>\n",
       "      <td>167.020000</td>\n",
       "      <td>4.040400e+04</td>\n",
       "      <td>8.170000</td>\n",
       "      <td>0.000000</td>\n",
       "      <td>0.000000</td>\n",
       "      <td>...</td>\n",
       "      <td>NaN</td>\n",
       "      <td>NaN</td>\n",
       "      <td>NaN</td>\n",
       "      <td>NaN</td>\n",
       "      <td>0.000000</td>\n",
       "      <td>0.0</td>\n",
       "      <td>NaN</td>\n",
       "      <td>NaN</td>\n",
       "      <td>NaN</td>\n",
       "      <td>NaN</td>\n",
       "    </tr>\n",
       "    <tr>\n",
       "      <th>50%</th>\n",
       "      <td>6.656650e+05</td>\n",
       "      <td>8.508120e+05</td>\n",
       "      <td>10000.000000</td>\n",
       "      <td>9600.000000</td>\n",
       "      <td>8975.000000</td>\n",
       "      <td>280.220000</td>\n",
       "      <td>5.900000e+04</td>\n",
       "      <td>13.400000</td>\n",
       "      <td>0.000000</td>\n",
       "      <td>1.000000</td>\n",
       "      <td>...</td>\n",
       "      <td>NaN</td>\n",
       "      <td>NaN</td>\n",
       "      <td>NaN</td>\n",
       "      <td>NaN</td>\n",
       "      <td>0.000000</td>\n",
       "      <td>0.0</td>\n",
       "      <td>NaN</td>\n",
       "      <td>NaN</td>\n",
       "      <td>NaN</td>\n",
       "      <td>NaN</td>\n",
       "    </tr>\n",
       "    <tr>\n",
       "      <th>75%</th>\n",
       "      <td>8.377550e+05</td>\n",
       "      <td>1.047339e+06</td>\n",
       "      <td>15000.000000</td>\n",
       "      <td>15000.000000</td>\n",
       "      <td>14400.000000</td>\n",
       "      <td>430.780000</td>\n",
       "      <td>8.230000e+04</td>\n",
       "      <td>18.600000</td>\n",
       "      <td>0.000000</td>\n",
       "      <td>1.000000</td>\n",
       "      <td>...</td>\n",
       "      <td>NaN</td>\n",
       "      <td>NaN</td>\n",
       "      <td>NaN</td>\n",
       "      <td>NaN</td>\n",
       "      <td>0.000000</td>\n",
       "      <td>0.0</td>\n",
       "      <td>NaN</td>\n",
       "      <td>NaN</td>\n",
       "      <td>NaN</td>\n",
       "      <td>NaN</td>\n",
       "    </tr>\n",
       "    <tr>\n",
       "      <th>max</th>\n",
       "      <td>1.077501e+06</td>\n",
       "      <td>1.314167e+06</td>\n",
       "      <td>35000.000000</td>\n",
       "      <td>35000.000000</td>\n",
       "      <td>35000.000000</td>\n",
       "      <td>1305.190000</td>\n",
       "      <td>6.000000e+06</td>\n",
       "      <td>29.990000</td>\n",
       "      <td>11.000000</td>\n",
       "      <td>8.000000</td>\n",
       "      <td>...</td>\n",
       "      <td>NaN</td>\n",
       "      <td>NaN</td>\n",
       "      <td>NaN</td>\n",
       "      <td>NaN</td>\n",
       "      <td>2.000000</td>\n",
       "      <td>0.0</td>\n",
       "      <td>NaN</td>\n",
       "      <td>NaN</td>\n",
       "      <td>NaN</td>\n",
       "      <td>NaN</td>\n",
       "    </tr>\n",
       "  </tbody>\n",
       "</table>\n",
       "<p>8 rows × 87 columns</p>\n",
       "</div>"
      ],
      "text/plain": [
       "                 id     member_id     loan_amnt   funded_amnt  \\\n",
       "count  3.971700e+04  3.971700e+04  39717.000000  39717.000000   \n",
       "mean   6.831319e+05  8.504636e+05  11219.443815  10947.713196   \n",
       "std    2.106941e+05  2.656783e+05   7456.670694   7187.238670   \n",
       "min    5.473400e+04  7.069900e+04    500.000000    500.000000   \n",
       "25%    5.162210e+05  6.667800e+05   5500.000000   5400.000000   \n",
       "50%    6.656650e+05  8.508120e+05  10000.000000   9600.000000   \n",
       "75%    8.377550e+05  1.047339e+06  15000.000000  15000.000000   \n",
       "max    1.077501e+06  1.314167e+06  35000.000000  35000.000000   \n",
       "\n",
       "       funded_amnt_inv   installment    annual_inc           dti  \\\n",
       "count     39717.000000  39717.000000  3.971700e+04  39717.000000   \n",
       "mean      10397.448868    324.561922  6.896893e+04     13.315130   \n",
       "std        7128.450439    208.874874  6.379377e+04      6.678594   \n",
       "min           0.000000     15.690000  4.000000e+03      0.000000   \n",
       "25%        5000.000000    167.020000  4.040400e+04      8.170000   \n",
       "50%        8975.000000    280.220000  5.900000e+04     13.400000   \n",
       "75%       14400.000000    430.780000  8.230000e+04     18.600000   \n",
       "max       35000.000000   1305.190000  6.000000e+06     29.990000   \n",
       "\n",
       "        delinq_2yrs  inq_last_6mths  ...  num_tl_90g_dpd_24m  \\\n",
       "count  39717.000000    39717.000000  ...                 0.0   \n",
       "mean       0.146512        0.869200  ...                 NaN   \n",
       "std        0.491812        1.070219  ...                 NaN   \n",
       "min        0.000000        0.000000  ...                 NaN   \n",
       "25%        0.000000        0.000000  ...                 NaN   \n",
       "50%        0.000000        1.000000  ...                 NaN   \n",
       "75%        0.000000        1.000000  ...                 NaN   \n",
       "max       11.000000        8.000000  ...                 NaN   \n",
       "\n",
       "       num_tl_op_past_12m  pct_tl_nvr_dlq  percent_bc_gt_75  \\\n",
       "count                 0.0             0.0               0.0   \n",
       "mean                  NaN             NaN               NaN   \n",
       "std                   NaN             NaN               NaN   \n",
       "min                   NaN             NaN               NaN   \n",
       "25%                   NaN             NaN               NaN   \n",
       "50%                   NaN             NaN               NaN   \n",
       "75%                   NaN             NaN               NaN   \n",
       "max                   NaN             NaN               NaN   \n",
       "\n",
       "       pub_rec_bankruptcies  tax_liens  tot_hi_cred_lim  total_bal_ex_mort  \\\n",
       "count          39020.000000    39678.0              0.0                0.0   \n",
       "mean               0.043260        0.0              NaN                NaN   \n",
       "std                0.204324        0.0              NaN                NaN   \n",
       "min                0.000000        0.0              NaN                NaN   \n",
       "25%                0.000000        0.0              NaN                NaN   \n",
       "50%                0.000000        0.0              NaN                NaN   \n",
       "75%                0.000000        0.0              NaN                NaN   \n",
       "max                2.000000        0.0              NaN                NaN   \n",
       "\n",
       "       total_bc_limit  total_il_high_credit_limit  \n",
       "count             0.0                         0.0  \n",
       "mean              NaN                         NaN  \n",
       "std               NaN                         NaN  \n",
       "min               NaN                         NaN  \n",
       "25%               NaN                         NaN  \n",
       "50%               NaN                         NaN  \n",
       "75%               NaN                         NaN  \n",
       "max               NaN                         NaN  \n",
       "\n",
       "[8 rows x 87 columns]"
      ]
     },
     "execution_count": 105,
     "metadata": {},
     "output_type": "execute_result"
    }
   ],
   "source": [
    "df.describe()"
   ]
  },
  {
   "cell_type": "markdown",
   "id": "1bd56738",
   "metadata": {},
   "source": [
    "#                       ----------------------------------------------------------------------------------------------------------------"
   ]
  },
  {
   "cell_type": "markdown",
   "id": "c2540246",
   "metadata": {},
   "source": [
    "# Step 4 :  Identification and Reporting of data Quality issues \n",
    "   \n",
    "   We are checking whether there are any Null Values or NAN values which can affect the Analysis\n",
    "   \n",
    "    IDENTIFICATION---: The NaN/NA Values are easily detected with df.isna().sum()\n",
    "    REPORTING -------: The NA Values having count > 0, or that are having very high count are being reported.   \n",
    "\n",
    "   "
   ]
  },
  {
   "cell_type": "code",
   "execution_count": 106,
   "id": "c1262d43",
   "metadata": {},
   "outputs": [
    {
     "name": "stdout",
     "output_type": "stream",
     "text": [
      "emp_title                      2459\n",
      "emp_length                     1075\n",
      "desc                          12940\n",
      "title                            11\n",
      "mths_since_last_delinq        25682\n",
      "                              ...  \n",
      "tax_liens                        39\n",
      "tot_hi_cred_lim               39717\n",
      "total_bal_ex_mort             39717\n",
      "total_bc_limit                39717\n",
      "total_il_high_credit_limit    39717\n",
      "Length: 68, dtype: int64\n"
     ]
    }
   ],
   "source": [
    "\n",
    "column_head = df.isna().sum()             #--- The Column head Pandas DataFrame Variable is used to store the count of NaN values\n",
    "print(column_head[column_head > 0])       #--- Here we print the Column_head entries where its larger than 0\n",
    "\n"
   ]
  },
  {
   "cell_type": "markdown",
   "id": "128d7f35",
   "metadata": {},
   "source": [
    "# Our Prima - Facie observations:\n",
    "   ==============================================="
   ]
  },
  {
   "cell_type": "markdown",
   "id": "14c4b4fd",
   "metadata": {},
   "source": [
    "                                                   [ OBSERVATION - 1 ] : \n",
    "                                                   ====================\n",
    "                                                                                                      \n",
    "                   We see that the Number of Null / NaN Values are repeated in a count of 39717,                                          \n",
    "               Hence our prima-facie decision assumption will be to drop these columns having large number of Null Value\n"
   ]
  },
  {
   "cell_type": "markdown",
   "id": "9ac72970",
   "metadata": {},
   "source": [
    "                                                   [ OBSERVATION - 2 ] : \n",
    "                                                   =====================\n",
    "                  There are other column_heads having higher values like:                                                                   \n",
    "\n",
    "                 \"mths_since_last_delinq\" = 25682,       \n",
    "                 \"mths_since_last_record\" = 36931,\n",
    "                           \"next_pymnt_d\" = 38577,\n",
    "                                   \"desc\" = 12940,\n",
    "                 Here we may need to replace the NA with a Zero or manipulate the Data                  "
   ]
  },
  {
   "cell_type": "code",
   "execution_count": 107,
   "id": "896825d7",
   "metadata": {},
   "outputs": [
    {
     "name": "stdout",
     "output_type": "stream",
     "text": [
      "Data Type of  mths_since_last_delinq  =  float64\n",
      "Data Type of  mths_since_last_record  =  float64\n",
      "Data Type of  next_pymnt_d  =  object\n",
      "Data Type of  desc  =  object\n"
     ]
    }
   ],
   "source": [
    "#Action : We identify the data type of each column, to see which values can be replaced or ignored.\n",
    "\n",
    "df_analysis = df             # df_analysis will the the NEW PANDAS DATAFRAME to operate on, thus keeping original frame intact\n",
    "\n",
    "high_null_count_column_list = ['mths_since_last_delinq', 'mths_since_last_record' , 'next_pymnt_d', 'desc']\n",
    "\n",
    "for i in high_null_count_column_list:\n",
    "    print(\"Data Type of \",i, \" = \", df_analysis[i].dtype)\n"
   ]
  },
  {
   "cell_type": "markdown",
   "id": "500eee33",
   "metadata": {},
   "source": [
    "                                                   [ OBSERVATION - 3 ] : \n",
    "                                                   ====================\n",
    "                                                                                                      \n",
    "                There are other column_heads having higher values like: \n",
    "                \"mths_since_last_delinq\" = 25682,\n",
    "                \"mths_since_last_record\" = 36931,\n",
    "                          \"next_pymnt_d\" = 38577,\n",
    "                                  \"desc\" = 12940,\n",
    "                By this command of .loc , we can identify from the Dictionary data frame provided to us,\n",
    "                Which can describe the field quickly \n"
   ]
  },
  {
   "cell_type": "code",
   "execution_count": 108,
   "id": "ff61369b",
   "metadata": {},
   "outputs": [
    {
     "data": {
      "text/html": [
       "<div>\n",
       "<style scoped>\n",
       "    .dataframe tbody tr th:only-of-type {\n",
       "        vertical-align: middle;\n",
       "    }\n",
       "\n",
       "    .dataframe tbody tr th {\n",
       "        vertical-align: top;\n",
       "    }\n",
       "\n",
       "    .dataframe thead th {\n",
       "        text-align: right;\n",
       "    }\n",
       "</style>\n",
       "<table border=\"1\" class=\"dataframe\">\n",
       "  <thead>\n",
       "    <tr style=\"text-align: right;\">\n",
       "      <th></th>\n",
       "      <th>LoanStatNew</th>\n",
       "      <th>Description</th>\n",
       "    </tr>\n",
       "  </thead>\n",
       "  <tbody>\n",
       "    <tr>\n",
       "      <th>15</th>\n",
       "      <td>desc</td>\n",
       "      <td>Loan description provided by the borrower</td>\n",
       "    </tr>\n",
       "    <tr>\n",
       "      <th>50</th>\n",
       "      <td>mths_since_last_delinq</td>\n",
       "      <td>The number of months since the borrower's last...</td>\n",
       "    </tr>\n",
       "    <tr>\n",
       "      <th>52</th>\n",
       "      <td>mths_since_last_record</td>\n",
       "      <td>The number of months since the last public rec...</td>\n",
       "    </tr>\n",
       "    <tr>\n",
       "      <th>58</th>\n",
       "      <td>next_pymnt_d</td>\n",
       "      <td>Next scheduled payment date</td>\n",
       "    </tr>\n",
       "  </tbody>\n",
       "</table>\n",
       "</div>"
      ],
      "text/plain": [
       "               LoanStatNew                                        Description\n",
       "15                    desc          Loan description provided by the borrower\n",
       "50  mths_since_last_delinq  The number of months since the borrower's last...\n",
       "52  mths_since_last_record  The number of months since the last public rec...\n",
       "58            next_pymnt_d                        Next scheduled payment date"
      ]
     },
     "execution_count": 108,
     "metadata": {},
     "output_type": "execute_result"
    }
   ],
   "source": [
    "\n",
    "#Formula Shortened: \n",
    "#Applied iloc for all the Fields in one line\n",
    "df_dict.loc[(df_dict['LoanStatNew']=='mths_since_last_delinq') | (df_dict['LoanStatNew']=='mths_since_last_record')| (df_dict['LoanStatNew']=='next_pymnt_d')| (df_dict['LoanStatNew']=='desc')]\n",
    "\n",
    "                #THUS KNOWING THE IMPORTANCE OF THE FIELD AND HOW TO REPLACE/MANIPULATION OF THE VALUES\n",
    "\n"
   ]
  },
  {
   "cell_type": "markdown",
   "id": "a07f7679",
   "metadata": {},
   "source": [
    "#                       ----------------------------------------------------------------------------------------------------------------------------------------------------------------------------------------------------------------------------------"
   ]
  },
  {
   "cell_type": "markdown",
   "id": "66f7b533",
   "metadata": {},
   "source": [
    " # ======================================================================================  -----------------------[ > DATA CLEANING & MANIPULATION < ]-----------------------------===================================================================\n",
    " \n",
    " \n",
    " \n",
    " \n"
   ]
  },
  {
   "cell_type": "markdown",
   "id": "9ba1c1fc",
   "metadata": {},
   "source": [
    "# Step - 1 : Cleaning the data - Identifying NaN/Null and Dropping columns\n",
    "\n",
    "\n",
    "     Objective : Is to filter out the data , or replace the NAN values by a Numerical or Blanks\n",
    "\n",
    "     Here we see the Null Count Value 39717 is repeated often. \n",
    "     So from Our stand-point the value is common NA and the column can be dropped \n"
   ]
  },
  {
   "cell_type": "markdown",
   "id": "5efb22ff",
   "metadata": {},
   "source": [
    "                                               [ DATA CLEANING ] : \n",
    "                                               ==================== "
   ]
  },
  {
   "cell_type": "code",
   "execution_count": 109,
   "id": "84a4e892",
   "metadata": {
    "scrolled": true
   },
   "outputs": [
    {
     "name": "stdout",
     "output_type": "stream",
     "text": [
      "Shape Before dropping columns =  (39717, 111)\n",
      "Shape After dropping columns =  (39717, 57)\n"
     ]
    }
   ],
   "source": [
    "#df is the original imported Data Frame\n",
    "#df_analysis is the one that shall be operated upon from now.\n",
    "#In order to protect the Original loaded Data we put df into the variable \"df_analysis\"\n",
    "\n",
    "df_analysis = df\n",
    "\n",
    "print('Shape Before dropping columns = ', df_analysis.shape)                          #Print shape Before Dropping Columns\n",
    "    \n",
    "for col,count in column_head.items():                #using for-loop, for every count in column_head DataFrame,  \n",
    "    if (count>=39717):                               #Condition in Loop Null Value count >= 39717.\n",
    "        df_analysis.drop(columns=col, inplace=True)  #Dropping the columns in loop that match the condition.\n",
    "\n",
    "print('Shape After dropping columns = ', df_analysis.shape)                           #Print shape After Dropping Columns"
   ]
  },
  {
   "cell_type": "markdown",
   "id": "495b43ff",
   "metadata": {},
   "source": [
    "SOME MORE COLUMNS HAVE THE SAME VALUES THROUGHOUT:\n",
    "    collections_12_mths_ex_med, chargeoff_within_12_mths, tax_liens\n",
    "\n",
    "We can Drop these too    "
   ]
  },
  {
   "cell_type": "code",
   "execution_count": 110,
   "id": "175510b6",
   "metadata": {},
   "outputs": [
    {
     "name": "stdout",
     "output_type": "stream",
     "text": [
      "Shape After dropping columns =  (39717, 54)\n"
     ]
    }
   ],
   "source": [
    "df_analysis.drop(columns=['collections_12_mths_ex_med','chargeoff_within_12_mths','tax_liens'], inplace=True)\n",
    "print('Shape After dropping columns = ', df_analysis.shape) \n"
   ]
  },
  {
   "cell_type": "code",
   "execution_count": 111,
   "id": "e9035130",
   "metadata": {},
   "outputs": [
    {
     "name": "stdout",
     "output_type": "stream",
     "text": [
      "{'emp_title': 2459, 'emp_length': 1075, 'desc': 12940, 'title': 11, 'mths_since_last_delinq': 25682, 'mths_since_last_record': 36931, 'revol_util': 50, 'last_pymnt_d': 71, 'next_pymnt_d': 38577, 'last_credit_pull_d': 2, 'pub_rec_bankruptcies': 697}\n"
     ]
    }
   ],
   "source": [
    "# Here we Analyse that certain Higher Count SUM of NA Values , show that these cant be deleted yet as it may be an Outlier\n",
    "# or can be replaced with a Value.\n",
    "# Here We created a function to Retrieve the Column head value\n",
    "def Retrive_Null():\n",
    "    column_head = df_analysis.isnull().sum()\n",
    "    print(dict(column_head[column_head > 0]))\n",
    "\n",
    "Retrive_Null()"
   ]
  },
  {
   "cell_type": "code",
   "execution_count": 112,
   "id": "973243a6",
   "metadata": {},
   "outputs": [
    {
     "name": "stdout",
     "output_type": "stream",
     "text": [
      "Data Type of  mths_since_last_delinq  =  float64\n",
      "Data Type of  mths_since_last_record  =  float64\n",
      "Data Type of  next_pymnt_d  =  object\n",
      "Data Type of  desc  =  object\n"
     ]
    }
   ],
   "source": [
    "#  Need to extract the d.type of the column ,This shall depend on the Data Type of column.\n",
    "   #'mths_since_last_delinq': 25682, - Data Type = Numerical - Float64\n",
    "   #'mths_since_last_record': 36931, - Data Type = Numerical - Float64\n",
    "   #'next_pymnt_d': 38577,           - Data Type = Date\n",
    "   #'desc': 12940,                   - Data Type = String\n",
    "\n",
    "high_null_count_column_list = ['mths_since_last_delinq', 'mths_since_last_record' , 'next_pymnt_d', 'desc']\n",
    "\n",
    "for i in high_null_count_column_list:\n",
    "    print(\"Data Type of \",i, \" = \", df_analysis[i].dtype)\n"
   ]
  },
  {
   "cell_type": "markdown",
   "id": "9e15f98c",
   "metadata": {},
   "source": [
    "# ---------------------------------------------------------------------------------------------------------"
   ]
  },
  {
   "cell_type": "markdown",
   "id": "07f23456",
   "metadata": {},
   "source": [
    "# Step - 2 : Cleaning the data - Identifying NaN/Null and REPLACING values\n",
    "\n",
    "\n",
    "     Objective : Wherever we can try to keep the Columns intact, we replace the NA, Null Values with \"Unknown\", \"0\", \n",
    "\n",
    "Reason: Just trying to keep all data intact as much as we can\n"
   ]
  },
  {
   "cell_type": "code",
   "execution_count": 113,
   "id": "da962bca",
   "metadata": {},
   "outputs": [
    {
     "name": "stdout",
     "output_type": "stream",
     "text": [
      "{'emp_title': 2459, 'emp_length': 1075, 'desc': 12940, 'title': 11, 'mths_since_last_delinq': 25682, 'mths_since_last_record': 36931, 'revol_util': 50, 'last_pymnt_d': 71, 'next_pymnt_d': 38577, 'last_credit_pull_d': 2, 'pub_rec_bankruptcies': 697}\n"
     ]
    }
   ],
   "source": [
    "#GET CURRENT COLUMNS HAVING NULL VALUES AND DECIDE WHAT NEEDS TO BE IMPUTED AGAINST NULL\n",
    "\n",
    "Retrive_Null()"
   ]
  },
  {
   "cell_type": "code",
   "execution_count": 114,
   "id": "d365f5bc",
   "metadata": {},
   "outputs": [
    {
     "name": "stdout",
     "output_type": "stream",
     "text": [
      "Data Type of  emp_title  =  object\n",
      "Data Type of  emp_length  =  object\n",
      "Data Type of  desc  =  object\n",
      "Data Type of  title  =  object\n",
      "Data Type of  mths_since_last_delinq  =  float64\n",
      "Data Type of  mths_since_last_record  =  float64\n",
      "Data Type of  revol_util  =  object\n",
      "Data Type of  last_pymnt_d  =  object\n",
      "Data Type of  next_pymnt_d  =  object\n",
      "Data Type of  last_credit_pull_d  =  object\n",
      "Data Type of  pub_rec_bankruptcies  =  float64\n"
     ]
    },
    {
     "data": {
      "text/html": [
       "<div>\n",
       "<style scoped>\n",
       "    .dataframe tbody tr th:only-of-type {\n",
       "        vertical-align: middle;\n",
       "    }\n",
       "\n",
       "    .dataframe tbody tr th {\n",
       "        vertical-align: top;\n",
       "    }\n",
       "\n",
       "    .dataframe thead th {\n",
       "        text-align: right;\n",
       "    }\n",
       "</style>\n",
       "<table border=\"1\" class=\"dataframe\">\n",
       "  <thead>\n",
       "    <tr style=\"text-align: right;\">\n",
       "      <th></th>\n",
       "      <th>LoanStatNew</th>\n",
       "      <th>Description</th>\n",
       "    </tr>\n",
       "  </thead>\n",
       "  <tbody>\n",
       "    <tr>\n",
       "      <th>15</th>\n",
       "      <td>desc</td>\n",
       "      <td>Loan description provided by the borrower</td>\n",
       "    </tr>\n",
       "    <tr>\n",
       "      <th>19</th>\n",
       "      <td>emp_length</td>\n",
       "      <td>Employment length in years. Possible values ar...</td>\n",
       "    </tr>\n",
       "    <tr>\n",
       "      <th>20</th>\n",
       "      <td>emp_title</td>\n",
       "      <td>The job title supplied by the Borrower when ap...</td>\n",
       "    </tr>\n",
       "    <tr>\n",
       "      <th>36</th>\n",
       "      <td>last_credit_pull_d</td>\n",
       "      <td>The most recent month LC pulled credit for thi...</td>\n",
       "    </tr>\n",
       "    <tr>\n",
       "      <th>40</th>\n",
       "      <td>last_pymnt_d</td>\n",
       "      <td>Last month payment was received</td>\n",
       "    </tr>\n",
       "    <tr>\n",
       "      <th>50</th>\n",
       "      <td>mths_since_last_delinq</td>\n",
       "      <td>The number of months since the borrower's last...</td>\n",
       "    </tr>\n",
       "    <tr>\n",
       "      <th>52</th>\n",
       "      <td>mths_since_last_record</td>\n",
       "      <td>The number of months since the last public rec...</td>\n",
       "    </tr>\n",
       "    <tr>\n",
       "      <th>58</th>\n",
       "      <td>next_pymnt_d</td>\n",
       "      <td>Next scheduled payment date</td>\n",
       "    </tr>\n",
       "    <tr>\n",
       "      <th>86</th>\n",
       "      <td>pub_rec_bankruptcies</td>\n",
       "      <td>Number of public record bankruptcies</td>\n",
       "    </tr>\n",
       "    <tr>\n",
       "      <th>91</th>\n",
       "      <td>revol_util</td>\n",
       "      <td>Revolving line utilization rate, or the amount...</td>\n",
       "    </tr>\n",
       "    <tr>\n",
       "      <th>95</th>\n",
       "      <td>title</td>\n",
       "      <td>The loan title provided by the borrower</td>\n",
       "    </tr>\n",
       "  </tbody>\n",
       "</table>\n",
       "</div>"
      ],
      "text/plain": [
       "               LoanStatNew                                        Description\n",
       "15                    desc          Loan description provided by the borrower\n",
       "19              emp_length  Employment length in years. Possible values ar...\n",
       "20               emp_title  The job title supplied by the Borrower when ap...\n",
       "36      last_credit_pull_d  The most recent month LC pulled credit for thi...\n",
       "40            last_pymnt_d                    Last month payment was received\n",
       "50  mths_since_last_delinq  The number of months since the borrower's last...\n",
       "52  mths_since_last_record  The number of months since the last public rec...\n",
       "58            next_pymnt_d                        Next scheduled payment date\n",
       "86    pub_rec_bankruptcies               Number of public record bankruptcies\n",
       "91              revol_util  Revolving line utilization rate, or the amount...\n",
       "95                   title            The loan title provided by the borrower"
      ]
     },
     "execution_count": 114,
     "metadata": {},
     "output_type": "execute_result"
    }
   ],
   "source": [
    "\n",
    "\n",
    "high_null_count_column_list = ['emp_title', 'emp_length', 'desc', 'title', 'mths_since_last_delinq', 'mths_since_last_record', 'revol_util', 'last_pymnt_d', 'next_pymnt_d', 'last_credit_pull_d' , 'pub_rec_bankruptcies']\n",
    "for i in high_null_count_column_list:\n",
    "    print(\"Data Type of \",i, \" = \", df_analysis[i].dtype)\n",
    "    \n",
    "\n",
    "#Meaning of each column\n",
    "df_dict.loc[(df_dict['LoanStatNew']=='emp_title') \n",
    "            | (df_dict['LoanStatNew']=='emp_length')\n",
    "            | (df_dict['LoanStatNew']=='desc')\n",
    "            | (df_dict['LoanStatNew']=='title')\n",
    "            | (df_dict['LoanStatNew']=='mths_since_last_delinq')\n",
    "            | (df_dict['LoanStatNew']=='mths_since_last_record')\n",
    "            | (df_dict['LoanStatNew']=='revol_util')\n",
    "            | (df_dict['LoanStatNew']=='last_pymnt_d')\n",
    "            | (df_dict['LoanStatNew']=='next_pymnt_d')\n",
    "            | (df_dict['LoanStatNew']=='last_credit_pull_d')\n",
    "            | (df_dict['LoanStatNew']=='pub_rec_bankruptcies')]\n",
    "\n",
    "  \n"
   ]
  },
  {
   "cell_type": "code",
   "execution_count": 115,
   "id": "55158f54",
   "metadata": {},
   "outputs": [],
   "source": [
    "#-----------------------------------------------------------------------------------------------------\n",
    "# DATA TYPE = FLOAT, Replace null = 0, and if DATA TYPE = Object, Replace null = \"UNKNOWN\"\n",
    "#-----------------------------------------------------------------------------------------------------"
   ]
  },
  {
   "cell_type": "code",
   "execution_count": 116,
   "id": "ceda99d7",
   "metadata": {
    "scrolled": true
   },
   "outputs": [
    {
     "name": "stdout",
     "output_type": "stream",
     "text": [
      "Count of   in the  desc Column before was = 12940\n",
      "Count of   in the  desc Column After now is = 0\n",
      "Count of   in the  emp_title Column before was = 2459\n",
      "Count of   in the  emp_title Column After now is = 0\n",
      "Count of   in the  emp_length Column before was = 1075\n",
      "Count of   in the  emp_length Column After now is = 0\n",
      "Count of   in the  title Column before was = 11\n",
      "Count of   in the  title Column After now is = 0\n",
      "Count of   in the  mths_since_last_delinq Column before was = 25682\n",
      "Count of   in the  mths_since_last_delinq Column After now is = 0\n",
      "Count of   in the  mths_since_last_record Column before was = 36931\n",
      "Count of   in the  mths_since_last_record Column After now is = 0\n",
      "Count of   in the  revol_util Column before was = 50\n",
      "Count of   in the  revol_util Column After now is = 0\n",
      "Count of   in the  last_pymnt_d Column before was = 71\n",
      "Count of   in the  last_pymnt_d Column After now is = 0\n",
      "Count of   in the  next_pymnt_d Column before was = 38577\n",
      "Count of   in the  next_pymnt_d Column After now is = 0\n",
      "Count of   in the  last_credit_pull_d Column before was = 2\n",
      "Count of   in the  last_credit_pull_d Column After now is = 0\n",
      "Count of   in the  pub_rec_bankruptcies Column before was = 697\n",
      "Count of   in the  pub_rec_bankruptcies Column After now is = 0\n"
     ]
    }
   ],
   "source": [
    "#IMPUTING VALUES FOR NULL\n",
    "\n",
    "\n",
    "#Function for null value replacement, to reduce code\n",
    "#------------------------------------------------------------------------------\n",
    "def replace_null_values():\n",
    "    replace_target_count = df_analysis[replacement_column].isnull().sum()\n",
    "    print(\"Count of \", replace_target,\"in the \", replacement_column , \"Column before was =\", replace_target_count)\n",
    "    df_analysis[replacement_column].fillna(value = replacement_value,inplace = True)\n",
    "    replace_target_count = df_analysis[replacement_column].isnull().sum()\n",
    "    print(\"Count of \", replace_target,\"in the \", replacement_column , \"Column After now is =\", replace_target_count)\n",
    "#------------------------------------------------------------------------------\n",
    "\n",
    "#Data Type of  desc  =  object\n",
    "replacement_column = \"desc\"\n",
    "replace_target = ''\n",
    "replacement_value = \"UNKNOWN\"\n",
    "replace_null_values()\n",
    "#Data Type of  emp_title  =  object\n",
    "replacement_column = \"emp_title\"\n",
    "replace_target = ''\n",
    "replacement_value = \"UNKNOWN\"\n",
    "replace_null_values()\n",
    "#Data Type of  emp_length  =  object\n",
    "replacement_column = \"emp_length\"\n",
    "replace_target = ''\n",
    "replacement_value = \"UNKNOWN\"\n",
    "replace_null_values()\n",
    "#Data Type of  title  =  object\n",
    "replacement_column = \"title\"\n",
    "replace_target = ''\n",
    "replacement_value = \"UNKNOWN\"\n",
    "replace_null_values()\n",
    "#Data Type of  mths_since_last_delinq  =  float64\n",
    "replacement_column = \"mths_since_last_delinq\"\n",
    "replace_target = ''\n",
    "replacement_value = \"0\"\n",
    "replace_null_values()\n",
    "#Data Type of  mths_since_last_record  =  float64\n",
    "replacement_column = \"mths_since_last_record\"\n",
    "replace_target = ''\n",
    "replacement_value = \"0\"\n",
    "replace_null_values()\n",
    "#Data Type of  revol_util  =  object\n",
    "replacement_column = \"revol_util\"\n",
    "replace_target = ''\n",
    "replacement_value = \"UNKNOWN\"\n",
    "replace_null_values()\n",
    "#Data Type of  last_pymnt_d  =  object\n",
    "replacement_column = \"last_pymnt_d\"\n",
    "replace_target = ''\n",
    "replacement_value = \"UNKNOWN\"\n",
    "replace_null_values()\n",
    "#Data Type of  next_pymnt_d  =  object\n",
    "replacement_column = \"next_pymnt_d\"\n",
    "replace_target = ''\n",
    "replacement_value = \"UNKNOWN\"\n",
    "replace_null_values()\n",
    "#Data Type of  last_credit_pull_d  =  object\n",
    "replacement_column = \"last_credit_pull_d\"\n",
    "replace_target = ''\n",
    "replacement_value = \"UNKNOWN\"\n",
    "replace_null_values()\n",
    "#Data Type of  pub_rec_bankruptcies  =  float64\n",
    "replacement_column = \"pub_rec_bankruptcies\"\n",
    "replace_target = ''\n",
    "replacement_value = \"0\"\n",
    "replace_null_values()\n",
    "\n",
    "#removing % Symbol in the column int_rate, using lambda function\n",
    "df_analysis['int_rate'] = df_analysis['int_rate'].apply(lambda x: float(x.strip('%')))\n",
    "\n"
   ]
  },
  {
   "cell_type": "code",
   "execution_count": 117,
   "id": "2407cc19",
   "metadata": {},
   "outputs": [
    {
     "name": "stdout",
     "output_type": "stream",
     "text": [
      "{}\n"
     ]
    }
   ],
   "source": [
    "\n",
    "Retrive_Null()\n",
    "\n"
   ]
  },
  {
   "cell_type": "markdown",
   "id": "75b59f3e",
   "metadata": {},
   "source": [
    "#                       ----------------------------------------------------------------------------------------------------------------------------------------DATA IS CLEANED NOW - BEST AS WE COULD---------------------------------------------------------------------------------------------------------------------------------------"
   ]
  },
  {
   "cell_type": "markdown",
   "id": "9f351335",
   "metadata": {},
   "source": [
    "#                       ----------------------------------------------------------------------------------------------------------------------------------------SORRY!!!!........ IT TOOK LONGER TIME------------------------------------------------------------------------------------------------------------------------------------------------"
   ]
  },
  {
   "cell_type": "code",
   "execution_count": null,
   "id": "eecc414c",
   "metadata": {},
   "outputs": [],
   "source": []
  },
  {
   "cell_type": "markdown",
   "id": "2c10511d",
   "metadata": {},
   "source": [
    " # ======================================================================================  ------------------------------- [           DATA     ANALYSIS     ]  ----------------------------------------------===================================================================\n",
    " \n",
    " \n",
    " \n",
    " \n"
   ]
  },
  {
   "cell_type": "markdown",
   "id": "94b529d3",
   "metadata": {},
   "source": [
    "# Data ANALYSIS : We start here with Overview\n",
    "\n",
    "\n",
    "\n"
   ]
  },
  {
   "cell_type": "markdown",
   "id": "44067a04",
   "metadata": {},
   "source": [
    "# Step 1:  Check overall Loan Status with a PIE-CHART\n",
    "\n"
   ]
  },
  {
   "cell_type": "code",
   "execution_count": 118,
   "id": "622ad174",
   "metadata": {},
   "outputs": [
    {
     "data": {
      "text/plain": [
       "0     Fully Paid\n",
       "1    Charged Off\n",
       "2     Fully Paid\n",
       "3     Fully Paid\n",
       "4        Current\n",
       "Name: loan_status, dtype: object"
      ]
     },
     "execution_count": 118,
     "metadata": {},
     "output_type": "execute_result"
    }
   ],
   "source": [
    "df_analysis['loan_status'].head()"
   ]
  },
  {
   "cell_type": "code",
   "execution_count": 120,
   "id": "6580c537",
   "metadata": {},
   "outputs": [
    {
     "data": {
      "image/png": "[encoded data removed]",
      "text/plain": [
       "<Figure size 432x432 with 1 Axes>"
      ]
     },
     "metadata": {},
     "output_type": "display_data"
    }
   ],
   "source": [
    "def autopct(pct): # only show the label when it's > 10%      #FUNCTION FOR Percentage Show, of pct > 2%\n",
    "    return ('%.2f' % pct) if pct > 2 else ''\n",
    "my_labels = ['Fully Paid', 'Charged Off','Current']          #Plotting section for Pie-Chart \n",
    "plt.title('OVERALL LOAN STATUS')\n",
    "ax = df_analysis['loan_status'].value_counts().plot(kind='pie', figsize=(6,6), autopct=autopct, labels=my_labels)"
   ]
  },
  {
   "cell_type": "markdown",
   "id": "2f1ea584",
   "metadata": {},
   "source": [
    "# HERE WE SEE ABOVE MAJORLY , of overall Data: \n",
    "# FULLY PAID = 82.96%, \n",
    "# CHARGED OFF = 14.17%\n",
    "# Current = 2.87% "
   ]
  },
  {
   "cell_type": "markdown",
   "id": "4f715a8b",
   "metadata": {},
   "source": [
    "#                       ----------------------------------------------------------------------------------------------------------------"
   ]
  },
  {
   "cell_type": "markdown",
   "id": "42d700f8",
   "metadata": {},
   "source": [
    "# Step 2: DRILLING DEEPER : w.r.t Demographics, Numericals "
   ]
  },
  {
   "cell_type": "markdown",
   "id": "f19ba0ba",
   "metadata": {},
   "source": [
    "                                             ---------------------\n",
    "                                              UNI-VARIATE ANALYSIS\n",
    "                                             ---------------------\n",
    " Categories of:                                             \n",
    " of e.g. emp_title(Un-ordered), emp_length(ordered), loan_amt(ordered) etc will give good analysis of demographics - (CUSTOMER BASE)\n",
    "\n"
   ]
  },
  {
   "cell_type": "markdown",
   "id": "eefbebc2",
   "metadata": {},
   "source": [
    "                                              -------------------\n",
    "                                              BI-VARIATE ANALYSIS\n",
    "                                              -------------------\n",
    "                                              \n",
    "BI-IVARIATE ANALYSIS of emp_title, & emp_length, loan_amt will give good analysis of influence of one variable over the other - (Behaviour Trend)"
   ]
  },
  {
   "cell_type": "markdown",
   "id": "b0bd77be",
   "metadata": {},
   "source": [
    "# UNI-VARIATE ANALYSIS of Ordered Variables\n",
    "  # emp_length, emp_title,   loan_amnt"
   ]
  },
  {
   "cell_type": "markdown",
   "id": "564ba8ee",
   "metadata": {},
   "source": [
    "    ====================================\n",
    "    FUNCTIONs WRITTEN TO PLOT GRAPHS\n",
    "    ====================================="
   ]
  },
  {
   "cell_type": "markdown",
   "id": "d2a96bd5",
   "metadata": {},
   "source": [
    "# Custom functions are used to perform repetitive tasks."
   ]
  },
  {
   "cell_type": "code",
   "execution_count": 121,
   "id": "719feeb1",
   "metadata": {},
   "outputs": [],
   "source": [
    "#Functions to retrieve meaning of the Column name\n",
    "#===========================================\n",
    "#VARIABLES:                                = \n",
    "#a: Length of Graph                        =\n",
    "#b: Height of Graph                        =\n",
    "#plot_color: Color of the Plot             = \n",
    "#df_analysis: Data Frame analysed          = \n",
    "#df_row_name : Name of row of df_analysis  =\n",
    "#df_dict: DataFrame of MetaData            = \n",
    "#===========================================\n",
    "def column_desc():\n",
    "    column_desc_df = dict(df_dict.loc[(df_dict['LoanStatNew']==df_row_name)])  #Prints Description of the Variable, using .loc#\n",
    "    print(column_desc_df)\n",
    "\n",
    "#Function to plot the Histograms in seaborn\n",
    "def Seaborn_Histplot():                                                        #Plots a Histogram in Seaborn, using .loc#\n",
    "    sns.set(rc={\"figure.figsize\":(a, b)})\n",
    "    l = sns.histplot(df_analysis[df_row_name],color=plot_color)\n",
    "    plt.show(l)\n",
    "\n"
   ]
  },
  {
   "cell_type": "markdown",
   "id": "63854a25",
   "metadata": {},
   "source": [
    "#          ---------------------\n",
    "#          UNI-VARIATE ORDERED = emp_length, Numeric\n",
    "#         ---------------------"
   ]
  },
  {
   "cell_type": "code",
   "execution_count": 122,
   "id": "fc093dec",
   "metadata": {},
   "outputs": [
    {
     "name": "stdout",
     "output_type": "stream",
     "text": [
      "{'LoanStatNew': 19    emp_length\n",
      "Name: LoanStatNew, dtype: object, 'Description': 19    Employment length in years. Possible values are between 0 and 10 where 0 means less than one year and 10 means ten or more years. \n",
      "Name: Description, dtype: object}\n"
     ]
    },
    {
     "data": {
      "image/png": "[encoded data removed]",
      "text/plain": [
       "<Figure size 1080x576 with 1 Axes>"
      ]
     },
     "metadata": {},
     "output_type": "display_data"
    }
   ],
   "source": [
    "#VARIABLES FOR THE PLOTTING OF THE GRAPHS\n",
    "df_row_name, plot_color, a, b = 'emp_length','darkorange', '15', '8'  #Variable Values input here\n",
    "Display_All()                                                         \n",
    "column_desc()                                                         #Calling function for column description\n",
    "Seaborn_Histplot()                                                    #Calling the Plotting Function   \n",
    "Display_Reset()   "
   ]
  },
  {
   "cell_type": "markdown",
   "id": "d0b41415",
   "metadata": {},
   "source": [
    "# Graph of count v/s Years of Work Experience"
   ]
  },
  {
   "cell_type": "markdown",
   "id": "ba863a21",
   "metadata": {},
   "source": [
    "#              Here we see that highest amount loans are availed by people of work experience +10 Years, > 8000 People, 2nd best is < 1year\n"
   ]
  },
  {
   "cell_type": "markdown",
   "id": "ae0fdb44",
   "metadata": {},
   "source": [
    "# ------------------------------------------------------------------------------------------------------"
   ]
  },
  {
   "cell_type": "markdown",
   "id": "fd5e13d5",
   "metadata": {},
   "source": [
    "  ---------------------\n",
    "  UNI-VARIATE ORDERED = loan_amnt, Numeric\n",
    "  ---------------------"
   ]
  },
  {
   "cell_type": "code",
   "execution_count": 123,
   "id": "0937683a",
   "metadata": {},
   "outputs": [
    {
     "name": "stdout",
     "output_type": "stream",
     "text": [
      "{'LoanStatNew': 41    loan_amnt\n",
      "Name: LoanStatNew, dtype: object, 'Description': 41    The listed amount of the loan applied for by the borrower. If at some point in time, the credit department reduces the loan amount, then it will be reflected in this value.\n",
      "Name: Description, dtype: object}\n"
     ]
    },
    {
     "data": {
      "image/png": "[encoded data removed]",
      "text/plain": [
       "<Figure size 1296x576 with 1 Axes>"
      ]
     },
     "metadata": {},
     "output_type": "display_data"
    }
   ],
   "source": [
    "#Calling functions thereby shortening the code, improved efficiency\n",
    "\n",
    "df_row_name, plot_color, a, b = 'loan_amnt','darkblue', '18', '8'     #Variable Values input here\n",
    "\n",
    "Display_All()                                                         #Calling function to Display complete rows and columns \n",
    "column_desc()                                                         #Describing the column type and meaning\n",
    "Seaborn_Histplot()                                                    #Calling the Plotting Function   \n",
    "Display_Reset()                                                       #Resetting to default display\n",
    "\n"
   ]
  },
  {
   "cell_type": "markdown",
   "id": "2a91bdd1",
   "metadata": {},
   "source": [
    "#              Here we see that highest amount loans go in range of 35000\n",
    "#              Also the count of the People availing loans(>3000) taken around                           10000 are the highest."
   ]
  },
  {
   "cell_type": "markdown",
   "id": "88ee2736",
   "metadata": {},
   "source": [
    "# ------------------------------------------------------------------------------------------------------"
   ]
  },
  {
   "cell_type": "markdown",
   "id": "339c5cfe",
   "metadata": {},
   "source": [
    "---------------------\n",
    "UNI-VARIATE UnOrdered = emp_title, String"
   ]
  },
  {
   "cell_type": "markdown",
   "id": "883ae79d",
   "metadata": {},
   "source": [
    "  ---------------------\n",
    "  UNI-VARIATE ORDERED = emp_title, Non-Numeric\n",
    "  ---------------------"
   ]
  },
  {
   "cell_type": "code",
   "execution_count": 124,
   "id": "f393100f",
   "metadata": {},
   "outputs": [
    {
     "name": "stdout",
     "output_type": "stream",
     "text": [
      "COUNT OF UNIQUE VALUES IN THE COLUMN(emp_title) DATASET =  28821\n",
      "TOP 10 VALUES IN COLUMN\n",
      " UNKNOWN              2459\n",
      "US Army               134\n",
      "Bank of America       109\n",
      "IBM                    66\n",
      "AT&T                   59\n",
      "Kaiser Permanente      56\n",
      "USAF                   54\n",
      "Wells Fargo            54\n",
      "UPS                    53\n",
      "US Air Force           52\n",
      "Name: emp_title, dtype: int64\n"
     ]
    },
    {
     "data": {
      "text/plain": [
       "<AxesSubplot:>"
      ]
     },
     "execution_count": 124,
     "metadata": {},
     "output_type": "execute_result"
    },
    {
     "data": {
      "image/png": "[encoded data removed]",
      "text/plain": [
       "<Figure size 1296x576 with 1 Axes>"
      ]
     },
     "metadata": {},
     "output_type": "display_data"
    }
   ],
   "source": [
    "df_row_name, plot_color, a, b = 'emp_title','darkorange', '18', '8'  #Variable Values input here\n",
    "\n",
    "print('COUNT OF UNIQUE VALUES IN THE COLUMN(emp_title) DATASET = ', df_analysis[df_row_name].nunique())   #ESTIMATING THE DATA                      \n",
    "top_10_frame = df_analysis[df_row_name].value_counts().head(10).sort_values(ascending=False)              #Extract TOP 10 \n",
    "print(\"TOP 10 VALUES IN COLUMN\\n\", top_10_frame)                                                          #Printing the TOP-10\n",
    "df_analysis[df_row_name].value_counts().head(10).sort_values(ascending=True).plot(kind='barh')            #Plotting the Bar\n"
   ]
  },
  {
   "cell_type": "markdown",
   "id": "59b31850",
   "metadata": {},
   "source": [
    "#              Here we see that highest number of loans are availed by people from US ARMY , Bank of America , IBM, AT & T are in the TOP 4#   BUSINESS DRIVER : Loans can be marketed easily to the TOP 10 companies            "
   ]
  },
  {
   "cell_type": "markdown",
   "id": "49756222",
   "metadata": {},
   "source": [
    "# ==============================================================="
   ]
  },
  {
   "cell_type": "markdown",
   "id": "4ca00636",
   "metadata": {},
   "source": [
    "# Step 3: SEGMENTED UNIVARIATE ANALYSIS of Categorical Variables.\n",
    "\n",
    "# STATE CODE , GRADE, SUB-GRADE"
   ]
  },
  {
   "cell_type": "markdown",
   "id": "f27c12dd",
   "metadata": {},
   "source": [
    "# a. STATE CODES of USofA"
   ]
  },
  {
   "cell_type": "markdown",
   "id": "7371eca9",
   "metadata": {},
   "source": [
    "# Since the data indicates USA States Codes: We decided to group them zone-wise/Regions\n",
    "\n",
    "With a reference to USA census site Its divided into Various Regions as below:\n",
    "REFERENCE LINK: https://www2.census.gov/geo/pdfs/maps-data/maps/reference/us_regdiv.pdf\n",
    "Official Site Updated as on 7th Feb 2022.\n",
    "\n",
    "Region I: Northeast\n",
    "Region 2: Midwest\n",
    "Region 3: South\n",
    "Region 4: West\n",
    "\n",
    "So We shall map them as Zone Area codes:    "
   ]
  },
  {
   "cell_type": "code",
   "execution_count": 125,
   "id": "57377259",
   "metadata": {},
   "outputs": [
    {
     "data": {
      "text/plain": [
       "(38577, 54)"
      ]
     },
     "execution_count": 125,
     "metadata": {},
     "output_type": "execute_result"
    }
   ],
   "source": [
    "#Excluding Current, and new dataset = df_analysis_FP_CO\n",
    "df_analysis_FP_CO = df_analysis[(df_analysis['loan_status'] == 'Fully Paid')|(df_analysis['loan_status'] == 'Charged Off') ]\n",
    "df_analysis_FP_CO.shape"
   ]
  },
  {
   "cell_type": "code",
   "execution_count": 126,
   "id": "cebf06da",
   "metadata": {},
   "outputs": [
    {
     "name": "stderr",
     "output_type": "stream",
     "text": [
      "C:\\Users\\shasrane\\AppData\\Local\\Temp/ipykernel_20956/1458251640.py:16: SettingWithCopyWarning:\n",
      "\n",
      "\n",
      "A value is trying to be set on a copy of a slice from a DataFrame.\n",
      "Try using .loc[row_indexer,col_indexer] = value instead\n",
      "\n",
      "See the caveats in the documentation: https://pandas.pydata.org/pandas-docs/stable/user_guide/indexing.html#returning-a-view-versus-a-copy\n",
      "\n",
      "C:\\Users\\shasrane\\AppData\\Local\\Temp/ipykernel_20956/1458251640.py:30: SettingWithCopyWarning:\n",
      "\n",
      "\n",
      "A value is trying to be set on a copy of a slice from a DataFrame.\n",
      "Try using .loc[row_indexer,col_indexer] = value instead\n",
      "\n",
      "See the caveats in the documentation: https://pandas.pydata.org/pandas-docs/stable/user_guide/indexing.html#returning-a-view-versus-a-copy\n",
      "\n"
     ]
    }
   ],
   "source": [
    "#                                =====================================================================\n",
    "#                                TARGET : TO CATEGORIZE THE STATE CODES W.R.T ZONE BY OFFICIAL CENSUS\n",
    "#                                =====================================================================\n",
    "#\n",
    "#                                                       ||:NOTE:|| \n",
    "                            #------------WHEN EXECUTING THIS THE WARNINGS CAN BE IGNORED--------------------#\n",
    "    \n",
    "#Preparing a list of the states As per Their Regions Above:\n",
    "west = ['CA', 'OR', 'UT','WA', 'CO', 'NV', 'AK', 'MT', 'HI', 'WY', 'ID']\n",
    "south = ['AZ', 'TX', 'NM', 'OK', 'GA', 'NC', 'VA', 'FL', 'KY', 'SC', 'LA', 'AL', 'WV', 'DC', 'AR', 'DE', 'MS', 'TN']\n",
    "mid_west = ['IL', 'MO', 'MN', 'OH', 'WI', 'KS', 'MI', 'SD', 'IA', 'NE', 'IN', 'ND']\n",
    "north_east = ['CT', 'NY', 'PA', 'NJ', 'RI','MA', 'MD', 'VT', 'NH', 'ME']\n",
    "\n",
    "\n",
    "#Addimg a new column\n",
    "df_analysis_FP_CO['region'] = np.nan\n",
    "\n",
    "def finding_regions(state):\n",
    "    if state in west:\n",
    "        return 'West'\n",
    "    elif state in south:\n",
    "        return 'South'\n",
    "    elif state in mid_west:\n",
    "        return 'MidWest'\n",
    "    elif state in north_east:\n",
    "        return 'NorthEast'\n",
    "    \n",
    "#Note:\n",
    "#The Below COMMAND will give a Warning SettingWithCopyWarning,\n",
    "df_analysis_FP_CO['region'] = df_analysis_FP_CO['addr_state'].apply(finding_regions)\n",
    "\n",
    "\n",
    "#df_analysis_FP_CO.to_csv(r'.\\with_region.csv', index = False)                             #EXPORTING CSV FILE TO CROSS CHECK\n",
    "                                                                                           #Optional\n"
   ]
  },
  {
   "cell_type": "code",
   "execution_count": 127,
   "id": "ba51bb63",
   "metadata": {},
   "outputs": [
    {
     "data": {
      "text/plain": [
       "0      South\n",
       "1      South\n",
       "2    MidWest\n",
       "Name: region, dtype: object"
      ]
     },
     "execution_count": 127,
     "metadata": {},
     "output_type": "execute_result"
    }
   ],
   "source": [
    "df_analysis_FP_CO['region'].head(3)"
   ]
  },
  {
   "cell_type": "markdown",
   "id": "13115e87",
   "metadata": {},
   "source": [
    "# Below Plot is a Segmented Univariate Plot of Loan Status V/S Different Regions\n",
    "\n",
    "# The South Region has the Most number of Loans Availed, and most number of Charged offs.\n",
    "# The Number of Charged - offs gets higher in the West > Northeast"
   ]
  },
  {
   "cell_type": "code",
   "execution_count": 128,
   "id": "0e78668a",
   "metadata": {},
   "outputs": [
    {
     "data": {
      "text/plain": [
       "[Text(0.5, 1.0, 'LOAN STATUS V/S REGION')]"
      ]
     },
     "execution_count": 128,
     "metadata": {},
     "output_type": "execute_result"
    },
    {
     "data": {
      "image/png": "[encoded data removed]",
      "text/plain": [
       "<Figure size 1296x576 with 1 Axes>"
      ]
     },
     "metadata": {},
     "output_type": "display_data"
    }
   ],
   "source": [
    "#Plotting Simple countplot:\n",
    "sns.countplot(x = 'loan_status' ,hue='region', data=df_analysis_FP_CO).set(title='LOAN STATUS V/S REGION')\n"
   ]
  },
  {
   "cell_type": "markdown",
   "id": "b82473aa",
   "metadata": {},
   "source": [
    "# ------------------------------------------------------------------------------------------------------"
   ]
  },
  {
   "cell_type": "markdown",
   "id": "34d3d17f",
   "metadata": {},
   "source": [
    "# b. Below Plot is a Segmented Univariate Plot of Loan Status V/S Grade and Sub-Grade"
   ]
  },
  {
   "cell_type": "code",
   "execution_count": 129,
   "id": "19b1c8ee",
   "metadata": {},
   "outputs": [
    {
     "data": {
      "text/plain": [
       "[Text(0.5, 1.0, 'LOAN STATUS V/S GRADE')]"
      ]
     },
     "execution_count": 129,
     "metadata": {},
     "output_type": "execute_result"
    },
    {
     "data": {
      "image/png": "[encoded data removed]",
      "text/plain": [
       "<Figure size 1800x1584 with 2 Axes>"
      ]
     },
     "metadata": {},
     "output_type": "display_data"
    }
   ],
   "source": [
    "#Plotting Simple countplot:\n",
    "figure, axes = plt.subplots(2,1,figsize=(25,22))\n",
    "plt.subplots_adjust(hspace = 0.1)\n",
    "sns.countplot(x = 'grade' ,hue='loan_status', data=df_analysis_FP_CO, ax=axes[0]).set(title='LOAN STATUS V/S SUB GRADE')\n",
    "sns.countplot(x = 'sub_grade' ,hue='loan_status', data=df_analysis_FP_CO, ax=axes[1]).set(title='LOAN STATUS V/S GRADE')\n"
   ]
  },
  {
   "cell_type": "markdown",
   "id": "5c3fb8b2",
   "metadata": {},
   "source": [
    "# GRADES Inference\n",
    "\n",
    "# Based on Above Graphs we can infer that Grades B,C, A are availing max loans and repaying them, whereas Grade D , is the 2nd Highest Charged Off\n",
    "\n",
    "# SUB-GRADES Inference\n",
    "# Based on Above Graphs we can infer that Sub-Grades B5,B3, C1 are Highest Charged Off. \n",
    "# TOP #4 Grades who are Fully paid are A4, B5, B3, A5\n",
    "# there's a clear trend of higher probability of charge-off as the subgrade lowers.\n"
   ]
  },
  {
   "cell_type": "markdown",
   "id": "310eeca5",
   "metadata": {},
   "source": [
    "# ==============================================================="
   ]
  },
  {
   "cell_type": "markdown",
   "id": "d1ed9801",
   "metadata": {},
   "source": [
    "# Step 4: BI-VARIATE ANALYSIS of Ordered Variables"
   ]
  },
  {
   "cell_type": "markdown",
   "id": "5438b6bf",
   "metadata": {},
   "source": [
    "# SINCE OUR PRIME FOCUS IS ON THE LOAN STATUS where FULLY PAID/CHARGED OFF, we will us this as a Primary Ordered Variable for Our analysis"
   ]
  },
  {
   "cell_type": "markdown",
   "id": "eb837c92",
   "metadata": {},
   "source": [
    "Here we can plot the influence of one Variable over the other:"
   ]
  },
  {
   "cell_type": "markdown",
   "id": "3bbd79fc",
   "metadata": {},
   "source": [
    "---------------------\n",
    "    BI-VARIATE Ordered / UnOrdered = Loan Status V/S [Loan Amount,Interest Rate,Term,grade, subgrade, employee length, home ownership, annual inc, verification status, purpose, DTI-Debt to Income,addr_state)\n",
    "    \n",
    "    We chose these Variables since they will have effect on the Payment of Loan status\n",
    "    Fpr eg. Annual Income(ordered variable) will be a deciding factor of loan repayment capacity.\n",
    "            Purpose (unordered variable) will show categorywise , whether loan is being paid.\n",
    " "
   ]
  },
  {
   "cell_type": "markdown",
   "id": "33c30bc5",
   "metadata": {},
   "source": [
    "# TO PERFORM ANALYSIS - We will not use the row having loan_status = current, since we need to work on only FULLY PAID and CHARGED OFF "
   ]
  },
  {
   "cell_type": "code",
   "execution_count": 130,
   "id": "4dcdc3c2",
   "metadata": {},
   "outputs": [
    {
     "data": {
      "text/plain": [
       "(38577, 54)"
      ]
     },
     "execution_count": 130,
     "metadata": {},
     "output_type": "execute_result"
    }
   ],
   "source": [
    "#Excluding Current, and new dataset = df_analysis_FP_CO\n",
    "df_analysis_FP_CO = df_analysis[(df_analysis['loan_status'] == 'Fully Paid')|(df_analysis['loan_status'] == 'Charged Off') ]\n",
    "df_analysis_FP_CO.shape"
   ]
  },
  {
   "cell_type": "code",
   "execution_count": 131,
   "id": "2e2d75a6",
   "metadata": {},
   "outputs": [
    {
     "data": {
      "text/plain": [
       "[Text(0.5, 1.0, '[--->LOAN STATUS V/S EMPLOYMENT EXPERIENCE<--]')]"
      ]
     },
     "execution_count": 131,
     "metadata": {},
     "output_type": "execute_result"
    },
    {
     "data": {
      "image/png": "[encoded data removed]",
      "text/plain": [
       "<Figure size 1296x2160 with 4 Axes>"
      ]
     },
     "metadata": {},
     "output_type": "display_data"
    }
   ],
   "source": [
    "figure, axes = plt.subplots(4,1,figsize=(18,30))\n",
    "plt.subplots_adjust(hspace = 0.9)\n",
    "sns.countplot(x='verification_status', hue='loan_status', data=df_analysis_FP_CO, ax=axes[0]).set(title='LOAN STATUS V/S VERIFICATION STATUS')\n",
    "sns.countplot(x='term', hue='loan_status', data=df_analysis_FP_CO, ax=axes[1]).set(title='LOAN STATUS V/S TERM')\n",
    "sns.countplot(x='home_ownership', hue='loan_status', data=df_analysis_FP_CO, ax=axes[2]).set(title='LOAN STATUS V/S HOME OWNERSHIP')\n",
    "sns.countplot(x='emp_length', hue='loan_status', data=df_analysis_FP_CO, ax=axes[3]).set(title='[--->LOAN STATUS V/S EMPLOYMENT EXPERIENCE<--]')\n",
    "\n"
   ]
  },
  {
   "cell_type": "markdown",
   "id": "29584bc1",
   "metadata": {},
   "source": [
    "# INFERENCES OF BIVARIATE ANALYSIS-1\n",
    "## a. Being Verified or un-verified doesn't have an effect on Charged-off count, in fact the cases of Fully Paid are much better in unverified.\n",
    "## b. As expected , shorter term of 36 months has more cases of Charged-off.\n",
    "## c. Home owners are at the least risk of Being Charged-Off, amongst rented & mortgage.\n",
    "## d. From 6,7,8,9 years of experience have lesser count of Charged-off cases, and 10+ years have the highest Fully paid counts\n"
   ]
  },
  {
   "cell_type": "markdown",
   "id": "aa2e78a9",
   "metadata": {},
   "source": [
    "# ------------------------------------------------------------------------------------------------------"
   ]
  },
  {
   "cell_type": "markdown",
   "id": "5613d163",
   "metadata": {},
   "source": [
    "# Below Plot is a Segmented Univariate Plot of Loan Status V/S Purpose"
   ]
  },
  {
   "cell_type": "code",
   "execution_count": 132,
   "id": "90559b1f",
   "metadata": {},
   "outputs": [
    {
     "data": {
      "text/plain": [
       "[Text(0.5, 1.0, 'LOAN STATUS V/S PURPOSE')]"
      ]
     },
     "execution_count": 132,
     "metadata": {},
     "output_type": "execute_result"
    },
    {
     "data": {
      "image/png": "[encoded data removed]",
      "text/plain": [
       "<Figure size 1296x720 with 1 Axes>"
      ]
     },
     "metadata": {},
     "output_type": "display_data"
    }
   ],
   "source": [
    "figure, axes = plt.subplots(1,1,figsize=(18,10))\n",
    "sns.countplot(y='purpose', hue='loan_status', data=df_analysis_FP_CO).set(title='LOAN STATUS V/S PURPOSE')"
   ]
  },
  {
   "cell_type": "markdown",
   "id": "efdcc00e",
   "metadata": {},
   "source": [
    "# INFERENCES OF BIVARIATE ANALYSIS-2\n",
    "## a. Highest risk cases come from debt_consolidation, credit card, other have an effect on Charged-off count\n",
    "## b. Lowest Risks of Charged-off seem to come from education, renewable energy, vacation.\n",
    "\n"
   ]
  },
  {
   "cell_type": "markdown",
   "id": "0483949b",
   "metadata": {},
   "source": [
    "# STEP 4:  GETTING A LOOK INTO THE Funded Amount by Investors:\n",
    "Our Logical Inference from the Data is :\n",
    "\n",
    "A = Applicant\n",
    "\n",
    "B = Lending Club\n",
    "\n",
    "C = Investors\n",
    "\n",
    "Here WE SEE,     A(Loan_amnt)------Request---->>> B(funded_amnt)------Request---->>>C(funded_amnt_inv)\n",
    "\n",
    "     At point C the Final Funded Amount is decided by the investors to Pass the Loan \n"
   ]
  },
  {
   "cell_type": "code",
   "execution_count": 133,
   "id": "5db8cda9",
   "metadata": {},
   "outputs": [
    {
     "data": {
      "text/plain": [
       "<AxesSubplot:title={'center':'LOAN STATUS-Orange V/S Investors funded comparison'}, xlabel='loan_amnt', ylabel='Count'>"
      ]
     },
     "execution_count": 133,
     "metadata": {},
     "output_type": "execute_result"
    },
    {
     "data": {
      "image/png": "[encoded data removed]",
      "text/plain": [
       "<Figure size 1800x1368 with 2 Axes>"
      ]
     },
     "metadata": {},
     "output_type": "display_data"
    }
   ],
   "source": [
    "\n",
    "figure, axes = plt.subplots(1,2,figsize=(25,19))\n",
    "\n",
    "sns.histplot(x='loan_amnt', bins=50, data=df_analysis_FP_CO, ax=axes[0], color=\"#F7522F\").set(title='LOAN STATUS-Orange V/S Investors funded comparison')\n",
    "sns.histplot(x='funded_amnt', bins=50, data=df_analysis_FP_CO, ax=axes[1], color=\"#2F8FF7\").set(title='LOAN STATUS V/S LendingClub Funded Amount')\n",
    "sns.histplot(x='funded_amnt_inv', bins=50, data=df_analysis_FP_CO, ax=axes[0], color=\"#2EAD46\")\n"
   ]
  },
  {
   "cell_type": "markdown",
   "id": "d66507c1",
   "metadata": {},
   "source": [
    "# INFERENCE:\n",
    "## We can see that the lendingclub and investors are very well synchronized in terms of decision making for issuing the loans., \n",
    "## When we compare against the A(Applicant)  v/s C(Investors Funded) , We can make a conclusion that the Investors are keen on giving lesser funds than required to the borrowers.\n",
    "## Here we can make a deduction by checking the Loan Amount v/s charged off and see which range the investors can approve of loans of particular amount. So they can avoid risk of charged off Applications."
   ]
  },
  {
   "cell_type": "markdown",
   "id": "3f7eec31",
   "metadata": {},
   "source": [
    "\n",
    "# ------------------------------------------------------------------------------------------------------------"
   ]
  },
  {
   "cell_type": "markdown",
   "id": "99c5c592",
   "metadata": {},
   "source": [
    "# =================================================================\n",
    "#          -         -      -                     BI-VARIATE ANALYSIS\n",
    "# Ordered Variables = Loan Status V/S        ( the 5 Important Indicators                                                  of Default - Charged Off)\n",
    "# ------------------------------------------------------------------------------------------------------------"
   ]
  },
  {
   "cell_type": "markdown",
   "id": "e478fabc",
   "metadata": {},
   "source": [
    "# TARGET : To find the Relation between Charged-Offs and Indicators Below:"
   ]
  },
  {
   "cell_type": "markdown",
   "id": "121ff606",
   "metadata": {},
   "source": [
    "# LOAN AMOUNT\n",
    "# INTEREST RATE\n",
    "# ANNUAL INCOME\n",
    "# DEBT TO INCOME\n",
    "# TERM\n",
    "                                              --------------------\n",
    "                                              Reason of Selection:\n",
    "                                              --------------------\n",
    "We have selected these based on our understanding of Payment Capacity of the loan:\n",
    "e.g. if Loan amount/Interest rate is high then chances are payment may default\n",
    "One more reason is : For the LendingClub the above may seem ordered Numberical Verified Values when issuing the loan \n",
    "\n",
    "\n",
    "                                               -----------------\n",
    "                                                      NOTE\n",
    "                                               -----------------\n",
    "                                               \n",
    " There are other indicators like verification status , Home ownership, Purpose of Loan , Grade, Subgrade, Employee Length                                         "
   ]
  },
  {
   "cell_type": "markdown",
   "id": "0209a495",
   "metadata": {},
   "source": [
    "# a. Loan Status V/S LOAN AMOUNT - Charged Off"
   ]
  },
  {
   "cell_type": "markdown",
   "id": "9ee790d1",
   "metadata": {},
   "source": [
    "# Below We can see the min=900 / max=35000 loan amount, Mean amount = 12104 Approx"
   ]
  },
  {
   "cell_type": "code",
   "execution_count": 134,
   "id": "76c3f715",
   "metadata": {},
   "outputs": [
    {
     "data": {
      "text/html": [
       "<div>\n",
       "<style scoped>\n",
       "    .dataframe tbody tr th:only-of-type {\n",
       "        vertical-align: middle;\n",
       "    }\n",
       "\n",
       "    .dataframe tbody tr th {\n",
       "        vertical-align: top;\n",
       "    }\n",
       "\n",
       "    .dataframe thead th {\n",
       "        text-align: right;\n",
       "    }\n",
       "</style>\n",
       "<table border=\"1\" class=\"dataframe\">\n",
       "  <thead>\n",
       "    <tr style=\"text-align: right;\">\n",
       "      <th></th>\n",
       "      <th>count</th>\n",
       "      <th>mean</th>\n",
       "      <th>std</th>\n",
       "      <th>min</th>\n",
       "      <th>25%</th>\n",
       "      <th>50%</th>\n",
       "      <th>75%</th>\n",
       "      <th>max</th>\n",
       "    </tr>\n",
       "    <tr>\n",
       "      <th>loan_status</th>\n",
       "      <th></th>\n",
       "      <th></th>\n",
       "      <th></th>\n",
       "      <th></th>\n",
       "      <th></th>\n",
       "      <th></th>\n",
       "      <th></th>\n",
       "      <th></th>\n",
       "    </tr>\n",
       "  </thead>\n",
       "  <tbody>\n",
       "    <tr>\n",
       "      <th>Charged Off</th>\n",
       "      <td>5627.0</td>\n",
       "      <td>12104.385108</td>\n",
       "      <td>8085.732038</td>\n",
       "      <td>900.0</td>\n",
       "      <td>5600.0</td>\n",
       "      <td>10000.0</td>\n",
       "      <td>16500.0</td>\n",
       "      <td>35000.0</td>\n",
       "    </tr>\n",
       "    <tr>\n",
       "      <th>Fully Paid</th>\n",
       "      <td>32950.0</td>\n",
       "      <td>10866.455994</td>\n",
       "      <td>7199.629493</td>\n",
       "      <td>500.0</td>\n",
       "      <td>5200.0</td>\n",
       "      <td>9600.0</td>\n",
       "      <td>15000.0</td>\n",
       "      <td>35000.0</td>\n",
       "    </tr>\n",
       "  </tbody>\n",
       "</table>\n",
       "</div>"
      ],
      "text/plain": [
       "               count          mean          std    min     25%      50%  \\\n",
       "loan_status                                                               \n",
       "Charged Off   5627.0  12104.385108  8085.732038  900.0  5600.0  10000.0   \n",
       "Fully Paid   32950.0  10866.455994  7199.629493  500.0  5200.0   9600.0   \n",
       "\n",
       "                 75%      max  \n",
       "loan_status                    \n",
       "Charged Off  16500.0  35000.0  \n",
       "Fully Paid   15000.0  35000.0  "
      ]
     },
     "execution_count": 134,
     "metadata": {},
     "output_type": "execute_result"
    }
   ],
   "source": [
    "df_analysis_FP_CO.groupby('loan_status')['loan_amnt'].describe()"
   ]
  },
  {
   "cell_type": "markdown",
   "id": "9bb0cdbb",
   "metadata": {},
   "source": [
    "# Here we observe that Charged off Amount and Fully Paid Against Loan Amount:\n",
    "\n",
    "75 percent Quantile range > 16500 , and Fully Paid is > 15000, Highest Charged Off counts are in range 1000 > charged off < 15000"
   ]
  },
  {
   "cell_type": "code",
   "execution_count": 135,
   "id": "a3a3cb7e",
   "metadata": {},
   "outputs": [
    {
     "data": {
      "text/plain": [
       "[Text(0.5, 1.0, 'LOAN STATUS V/S LOAN AMOUNT')]"
      ]
     },
     "execution_count": 135,
     "metadata": {},
     "output_type": "execute_result"
    },
    {
     "data": {
      "image/png": "[encoded data removed]",
      "text/plain": [
       "<Figure size 1296x360 with 2 Axes>"
      ]
     },
     "metadata": {},
     "output_type": "display_data"
    }
   ],
   "source": [
    "figure, axes = plt.subplots(1,2,figsize=(18,5))\n",
    "\n",
    "sns.histplot(x='loan_amnt', hue='loan_status', bins=50, data=df_analysis_FP_CO, ax=axes[0]).set(title='LOAN STATUS V/S LOAN AMOUNT')\n",
    "sns.boxplot(y='loan_status', x='loan_amnt', data=df_analysis_FP_CO,ax=axes[1]).set(title='LOAN STATUS V/S LOAN AMOUNT')"
   ]
  },
  {
   "cell_type": "markdown",
   "id": "b89b1f7d",
   "metadata": {},
   "source": [
    "# ---------------------------------------------------------------------------------------------------------------"
   ]
  },
  {
   "cell_type": "markdown",
   "id": "dc599797",
   "metadata": {},
   "source": [
    "# b. Loan Status V/S INTEREST RATE - Charged Off"
   ]
  },
  {
   "cell_type": "markdown",
   "id": "e16ff45a",
   "metadata": {},
   "source": [
    "# BI-VARIATE Ordered / Ordered = Loan Status V/S Interest Rate\n",
    "\n",
    "Here we observe that INTEREST RATES BETWEEN 1O% TO 16% are having Highest Charged off COUNTs"
   ]
  },
  {
   "cell_type": "code",
   "execution_count": 136,
   "id": "3f770e19",
   "metadata": {},
   "outputs": [
    {
     "data": {
      "text/html": [
       "<div>\n",
       "<style scoped>\n",
       "    .dataframe tbody tr th:only-of-type {\n",
       "        vertical-align: middle;\n",
       "    }\n",
       "\n",
       "    .dataframe tbody tr th {\n",
       "        vertical-align: top;\n",
       "    }\n",
       "\n",
       "    .dataframe thead th {\n",
       "        text-align: right;\n",
       "    }\n",
       "</style>\n",
       "<table border=\"1\" class=\"dataframe\">\n",
       "  <thead>\n",
       "    <tr style=\"text-align: right;\">\n",
       "      <th></th>\n",
       "      <th>count</th>\n",
       "      <th>mean</th>\n",
       "      <th>std</th>\n",
       "      <th>min</th>\n",
       "      <th>25%</th>\n",
       "      <th>50%</th>\n",
       "      <th>75%</th>\n",
       "      <th>max</th>\n",
       "    </tr>\n",
       "    <tr>\n",
       "      <th>loan_status</th>\n",
       "      <th></th>\n",
       "      <th></th>\n",
       "      <th></th>\n",
       "      <th></th>\n",
       "      <th></th>\n",
       "      <th></th>\n",
       "      <th></th>\n",
       "      <th></th>\n",
       "    </tr>\n",
       "  </thead>\n",
       "  <tbody>\n",
       "    <tr>\n",
       "      <th>Charged Off</th>\n",
       "      <td>5627.0</td>\n",
       "      <td>13.820432</td>\n",
       "      <td>3.654413</td>\n",
       "      <td>5.42</td>\n",
       "      <td>11.31</td>\n",
       "      <td>13.61</td>\n",
       "      <td>16.40</td>\n",
       "      <td>24.40</td>\n",
       "    </tr>\n",
       "    <tr>\n",
       "      <th>Fully Paid</th>\n",
       "      <td>32950.0</td>\n",
       "      <td>11.609761</td>\n",
       "      <td>3.599964</td>\n",
       "      <td>5.42</td>\n",
       "      <td>8.49</td>\n",
       "      <td>11.49</td>\n",
       "      <td>13.99</td>\n",
       "      <td>24.11</td>\n",
       "    </tr>\n",
       "  </tbody>\n",
       "</table>\n",
       "</div>"
      ],
      "text/plain": [
       "               count       mean       std   min    25%    50%    75%    max\n",
       "loan_status                                                                \n",
       "Charged Off   5627.0  13.820432  3.654413  5.42  11.31  13.61  16.40  24.40\n",
       "Fully Paid   32950.0  11.609761  3.599964  5.42   8.49  11.49  13.99  24.11"
      ]
     },
     "execution_count": 136,
     "metadata": {},
     "output_type": "execute_result"
    }
   ],
   "source": [
    "df_analysis_FP_CO.groupby('loan_status')['int_rate'].describe()"
   ]
  },
  {
   "cell_type": "code",
   "execution_count": 137,
   "id": "565c9d69",
   "metadata": {},
   "outputs": [
    {
     "data": {
      "text/plain": [
       "[Text(0.5, 1.0, 'LOAN STATUS V/S INTEREST RATE')]"
      ]
     },
     "execution_count": 137,
     "metadata": {},
     "output_type": "execute_result"
    },
    {
     "data": {
      "image/png": "[encoded data removed]",
      "text/plain": [
       "<Figure size 1296x360 with 2 Axes>"
      ]
     },
     "metadata": {},
     "output_type": "display_data"
    }
   ],
   "source": [
    "#Plotting Histogram and BoxPlot\n",
    "figure, axes = plt.subplots(1,2,figsize=(18,5))\n",
    "\n",
    "sns.histplot(x='int_rate', hue='loan_status', bins=50, data=df_analysis_FP_CO, ax=axes[0]).set(title='LOAN STATUS V/S INTEREST RATE')\n",
    "sns.boxplot(y='loan_status', x='int_rate', data=df_analysis_FP_CO,ax=axes[1]).set(title='LOAN STATUS V/S INTEREST RATE')\n"
   ]
  },
  {
   "cell_type": "markdown",
   "id": "14a4b02f",
   "metadata": {},
   "source": [
    "## Here we see that the Interest Rate between 10 to 20 % has the maximum charge offs, So the lending club can decide to increase or decrease the interest rate to promote or deter the applications. \n"
   ]
  },
  {
   "cell_type": "markdown",
   "id": "65c1b03a",
   "metadata": {},
   "source": [
    "# ---------------------------------------------------------------------------------------------------------------"
   ]
  },
  {
   "cell_type": "markdown",
   "id": "f94af525",
   "metadata": {},
   "source": [
    "# c. Loan Status V/S ANNUAL INCOME"
   ]
  },
  {
   "cell_type": "markdown",
   "id": "8f4d0a57",
   "metadata": {},
   "source": [
    "# BI-VARIATE continuous = Loan Status V/S Annual Income\n",
    "\n",
    "Here we observe that Annual Income BETWEEN 2000 TO 8000 are having Highest Charged off COUNTs\n",
    "LOWER LIMIT: 4080\n",
    "UPPER LIMIT: 145000\n"
   ]
  },
  {
   "cell_type": "code",
   "execution_count": 138,
   "id": "5ab0c668",
   "metadata": {
    "scrolled": true
   },
   "outputs": [
    {
     "data": {
      "text/plain": [
       "[Text(0.5, 1.0, 'LOAN STATUS V/S ANNUAL INCOME')]"
      ]
     },
     "execution_count": 138,
     "metadata": {},
     "output_type": "execute_result"
    },
    {
     "data": {
      "image/png": "[encoded data removed]",
      "text/plain": [
       "<Figure size 1296x360 with 2 Axes>"
      ]
     },
     "metadata": {},
     "output_type": "display_data"
    }
   ],
   "source": [
    "#Let also CLEAN THE DATA:\n",
    "#DATA ANALYSIS - removing outliers for Annual income since the Points in Annual income will be the largest\n",
    "df_analysis_FP_CO_annual_inc = df_analysis_FP_CO\n",
    "\n",
    "df_analysis_FP_CO_annual_inc['annual_inc'].quantile(0.75)\n",
    "df_analysis_FP_CO_annual_inc['annual_inc'].quantile(0.25)\n",
    "Iqr = df_analysis_FP_CO_annual_inc['annual_inc'].quantile(0.75) - df_analysis_FP_CO_annual_inc['annual_inc'].quantile(0.25)\n",
    "max1 = df_analysis_FP_CO_annual_inc['annual_inc'].quantile(0.75)+(1.5*Iqr)\n",
    "df_analysis_FP_CO_annual_inc = df_analysis_FP_CO_annual_inc[df_analysis_FP_CO_annual_inc['annual_inc'] <= max1]\n",
    "\n",
    "\n",
    "figure, axes = plt.subplots(1,2,figsize=(18,5))\n",
    "\n",
    "sns.histplot(x='annual_inc', hue='loan_status', bins=50, data=df_analysis_FP_CO_annual_inc, ax=axes[0]).set(title='LOAN STATUS V/S ANNUAL INCOME')\n",
    "sns.boxplot(y='loan_status', x='annual_inc', data=df_analysis_FP_CO_annual_inc,ax=axes[1]).set(title='LOAN STATUS V/S ANNUAL INCOME')\n",
    "#sns.boxplot(y='loan_status', x='annual_inc', data=df_analysis_FP_CO_annual_inc)"
   ]
  },
  {
   "cell_type": "code",
   "execution_count": 139,
   "id": "ddda18a8",
   "metadata": {},
   "outputs": [
    {
     "data": {
      "text/html": [
       "<div>\n",
       "<style scoped>\n",
       "    .dataframe tbody tr th:only-of-type {\n",
       "        vertical-align: middle;\n",
       "    }\n",
       "\n",
       "    .dataframe tbody tr th {\n",
       "        vertical-align: top;\n",
       "    }\n",
       "\n",
       "    .dataframe thead th {\n",
       "        text-align: right;\n",
       "    }\n",
       "</style>\n",
       "<table border=\"1\" class=\"dataframe\">\n",
       "  <thead>\n",
       "    <tr style=\"text-align: right;\">\n",
       "      <th></th>\n",
       "      <th>count</th>\n",
       "      <th>mean</th>\n",
       "      <th>std</th>\n",
       "      <th>min</th>\n",
       "      <th>25%</th>\n",
       "      <th>50%</th>\n",
       "      <th>75%</th>\n",
       "      <th>max</th>\n",
       "    </tr>\n",
       "    <tr>\n",
       "      <th>loan_status</th>\n",
       "      <th></th>\n",
       "      <th></th>\n",
       "      <th></th>\n",
       "      <th></th>\n",
       "      <th></th>\n",
       "      <th></th>\n",
       "      <th></th>\n",
       "      <th></th>\n",
       "    </tr>\n",
       "  </thead>\n",
       "  <tbody>\n",
       "    <tr>\n",
       "      <th>Charged Off</th>\n",
       "      <td>5431.0</td>\n",
       "      <td>56650.282105</td>\n",
       "      <td>26889.449133</td>\n",
       "      <td>4080.0</td>\n",
       "      <td>36400.0</td>\n",
       "      <td>51996.0</td>\n",
       "      <td>72000.0</td>\n",
       "      <td>145000.0</td>\n",
       "    </tr>\n",
       "    <tr>\n",
       "      <th>Fully Paid</th>\n",
       "      <td>31384.0</td>\n",
       "      <td>62008.670381</td>\n",
       "      <td>28375.140167</td>\n",
       "      <td>4000.0</td>\n",
       "      <td>40000.0</td>\n",
       "      <td>57496.0</td>\n",
       "      <td>80000.0</td>\n",
       "      <td>145000.0</td>\n",
       "    </tr>\n",
       "  </tbody>\n",
       "</table>\n",
       "</div>"
      ],
      "text/plain": [
       "               count          mean           std     min      25%      50%  \\\n",
       "loan_status                                                                  \n",
       "Charged Off   5431.0  56650.282105  26889.449133  4080.0  36400.0  51996.0   \n",
       "Fully Paid   31384.0  62008.670381  28375.140167  4000.0  40000.0  57496.0   \n",
       "\n",
       "                 75%       max  \n",
       "loan_status                     \n",
       "Charged Off  72000.0  145000.0  \n",
       "Fully Paid   80000.0  145000.0  "
      ]
     },
     "execution_count": 139,
     "metadata": {},
     "output_type": "execute_result"
    }
   ],
   "source": [
    "df_analysis_FP_CO_annual_inc.groupby('loan_status')['annual_inc'].describe()"
   ]
  },
  {
   "cell_type": "markdown",
   "id": "459ed9d7",
   "metadata": {},
   "source": [
    "# Inference:\n",
    "## We see a high volume of fully paid between 30000 to 60000. Same range has higher number of defaulters too. but as the loan amount increases the charged off cases reduce beyond 11000.\n"
   ]
  },
  {
   "cell_type": "markdown",
   "id": "1832d3af",
   "metadata": {},
   "source": [
    "# ---------------------------------------------------------------------------------------------------------------"
   ]
  },
  {
   "cell_type": "markdown",
   "id": "1244f7de",
   "metadata": {},
   "source": [
    "# d. Loan Status V/S (DTI) DEBT TO INCOME"
   ]
  },
  {
   "cell_type": "markdown",
   "id": "4b1ed04f",
   "metadata": {},
   "source": [
    "# As per below Graphs the Charged off Status is higher in DTIs ranging from 10 to 25\n",
    "The Average DTI mean = 14, and Max = 29.85 , for Charged Off"
   ]
  },
  {
   "cell_type": "code",
   "execution_count": 140,
   "id": "e6064a57",
   "metadata": {},
   "outputs": [
    {
     "data": {
      "text/html": [
       "<div>\n",
       "<style scoped>\n",
       "    .dataframe tbody tr th:only-of-type {\n",
       "        vertical-align: middle;\n",
       "    }\n",
       "\n",
       "    .dataframe tbody tr th {\n",
       "        vertical-align: top;\n",
       "    }\n",
       "\n",
       "    .dataframe thead th {\n",
       "        text-align: right;\n",
       "    }\n",
       "</style>\n",
       "<table border=\"1\" class=\"dataframe\">\n",
       "  <thead>\n",
       "    <tr style=\"text-align: right;\">\n",
       "      <th></th>\n",
       "      <th>count</th>\n",
       "      <th>mean</th>\n",
       "      <th>std</th>\n",
       "      <th>min</th>\n",
       "      <th>25%</th>\n",
       "      <th>50%</th>\n",
       "      <th>75%</th>\n",
       "      <th>max</th>\n",
       "    </tr>\n",
       "    <tr>\n",
       "      <th>loan_status</th>\n",
       "      <th></th>\n",
       "      <th></th>\n",
       "      <th></th>\n",
       "      <th></th>\n",
       "      <th></th>\n",
       "      <th></th>\n",
       "      <th></th>\n",
       "      <th></th>\n",
       "    </tr>\n",
       "  </thead>\n",
       "  <tbody>\n",
       "    <tr>\n",
       "      <th>Charged Off</th>\n",
       "      <td>5431.0</td>\n",
       "      <td>14.102541</td>\n",
       "      <td>6.584022</td>\n",
       "      <td>0.0</td>\n",
       "      <td>9.18</td>\n",
       "      <td>14.40</td>\n",
       "      <td>19.40</td>\n",
       "      <td>29.85</td>\n",
       "    </tr>\n",
       "    <tr>\n",
       "      <th>Fully Paid</th>\n",
       "      <td>31384.0</td>\n",
       "      <td>13.322548</td>\n",
       "      <td>6.667198</td>\n",
       "      <td>0.0</td>\n",
       "      <td>8.19</td>\n",
       "      <td>13.42</td>\n",
       "      <td>18.58</td>\n",
       "      <td>29.99</td>\n",
       "    </tr>\n",
       "  </tbody>\n",
       "</table>\n",
       "</div>"
      ],
      "text/plain": [
       "               count       mean       std  min   25%    50%    75%    max\n",
       "loan_status                                                              \n",
       "Charged Off   5431.0  14.102541  6.584022  0.0  9.18  14.40  19.40  29.85\n",
       "Fully Paid   31384.0  13.322548  6.667198  0.0  8.19  13.42  18.58  29.99"
      ]
     },
     "execution_count": 140,
     "metadata": {},
     "output_type": "execute_result"
    }
   ],
   "source": [
    "df_analysis_FP_CO_annual_inc.groupby('loan_status')['dti'].describe()"
   ]
  },
  {
   "cell_type": "code",
   "execution_count": 141,
   "id": "b54ac1af",
   "metadata": {},
   "outputs": [
    {
     "data": {
      "text/plain": [
       "[Text(0.5, 1.0, 'LOAN STATUS V/S DEBT-TO-INCOME')]"
      ]
     },
     "execution_count": 141,
     "metadata": {},
     "output_type": "execute_result"
    },
    {
     "data": {
      "image/png": "[encoded data removed]",
      "text/plain": [
       "<Figure size 1296x360 with 2 Axes>"
      ]
     },
     "metadata": {},
     "output_type": "display_data"
    }
   ],
   "source": [
    "#Plotting Histogram and BoxPlot\n",
    "figure, axes = plt.subplots(1,2,figsize=(18,5))\n",
    "\n",
    "sns.histplot(x='dti', hue='loan_status', bins=50, data=df_analysis_FP_CO, ax=axes[0]).set(title='LOAN STATUS V/S DEBT-TO-INCOME')\n",
    "sns.boxplot(y='loan_status', x='dti', data=df_analysis_FP_CO,ax=axes[1]).set(title='LOAN STATUS V/S DEBT-TO-INCOME')"
   ]
  },
  {
   "cell_type": "markdown",
   "id": "90eaa893",
   "metadata": {},
   "source": [
    "# e. Loan Status V/S TERM - Segmented Univariate type"
   ]
  },
  {
   "cell_type": "markdown",
   "id": "0693bc42",
   "metadata": {},
   "source": [
    "# Here we see, that a count of 5431 people are charged off, as per below graph higher number of  CHARGED OFF were in [36 months - TERM]"
   ]
  },
  {
   "cell_type": "code",
   "execution_count": 142,
   "id": "bc2eb027",
   "metadata": {},
   "outputs": [
    {
     "data": {
      "text/html": [
       "<div>\n",
       "<style scoped>\n",
       "    .dataframe tbody tr th:only-of-type {\n",
       "        vertical-align: middle;\n",
       "    }\n",
       "\n",
       "    .dataframe tbody tr th {\n",
       "        vertical-align: top;\n",
       "    }\n",
       "\n",
       "    .dataframe thead th {\n",
       "        text-align: right;\n",
       "    }\n",
       "</style>\n",
       "<table border=\"1\" class=\"dataframe\">\n",
       "  <thead>\n",
       "    <tr style=\"text-align: right;\">\n",
       "      <th></th>\n",
       "      <th>count</th>\n",
       "      <th>unique</th>\n",
       "      <th>top</th>\n",
       "      <th>freq</th>\n",
       "    </tr>\n",
       "    <tr>\n",
       "      <th>loan_status</th>\n",
       "      <th></th>\n",
       "      <th></th>\n",
       "      <th></th>\n",
       "      <th></th>\n",
       "    </tr>\n",
       "  </thead>\n",
       "  <tbody>\n",
       "    <tr>\n",
       "      <th>Charged Off</th>\n",
       "      <td>5431</td>\n",
       "      <td>2</td>\n",
       "      <td>36 months</td>\n",
       "      <td>3120</td>\n",
       "    </tr>\n",
       "    <tr>\n",
       "      <th>Fully Paid</th>\n",
       "      <td>31384</td>\n",
       "      <td>2</td>\n",
       "      <td>36 months</td>\n",
       "      <td>24717</td>\n",
       "    </tr>\n",
       "  </tbody>\n",
       "</table>\n",
       "</div>"
      ],
      "text/plain": [
       "             count unique         top   freq\n",
       "loan_status                                 \n",
       "Charged Off   5431      2   36 months   3120\n",
       "Fully Paid   31384      2   36 months  24717"
      ]
     },
     "execution_count": 142,
     "metadata": {},
     "output_type": "execute_result"
    }
   ],
   "source": [
    "df_analysis_FP_CO_annual_inc.groupby('loan_status')['term'].describe()"
   ]
  },
  {
   "cell_type": "code",
   "execution_count": 143,
   "id": "72d807c5",
   "metadata": {},
   "outputs": [
    {
     "data": {
      "text/plain": [
       "[Text(0.5, 1.0, 'LOAN STATUS V/S TERM')]"
      ]
     },
     "execution_count": 143,
     "metadata": {},
     "output_type": "execute_result"
    },
    {
     "data": {
      "image/png": "[encoded data removed]",
      "text/plain": [
       "<Figure size 1296x576 with 1 Axes>"
      ]
     },
     "metadata": {},
     "output_type": "display_data"
    }
   ],
   "source": [
    "#Plotting Simple countplot:\n",
    "sns.countplot(y='term', hue='loan_status', data=df_analysis_FP_CO).set(title='LOAN STATUS V/S TERM')\n"
   ]
  },
  {
   "cell_type": "code",
   "execution_count": null,
   "id": "c219dede",
   "metadata": {},
   "outputs": [],
   "source": []
  },
  {
   "cell_type": "markdown",
   "id": "6d092bf7",
   "metadata": {},
   "source": [
    "# Inference:\n",
    "## Here we see that for 36 months duration the cases are higher for Charged-off\n",
    "## But the Fully paid cases are also Higher, Its a High risk high gain scenario.\n",
    "\n"
   ]
  },
  {
   "cell_type": "markdown",
   "id": "c4b35590",
   "metadata": {},
   "source": [
    " # ======================================================================================  --------------------------------------- [ > RECOMMENDATIONS < ]--------------------------------===================================================================\n",
    " \n",
    " \n",
    " \n",
    " \n"
   ]
  },
  {
   "cell_type": "markdown",
   "id": "fd115e78",
   "metadata": {},
   "source": [
    "## a. LendingClub should try giving long term loans , lower amount at lower interest rate, to parties who can pay off or have higher reliability based on certain demographic.\n",
    "## b.Home Owners, Education seekers can will avail of this loan, attractive rates of interest can be given to increase business around > 10000 to 12000 USD.\n",
    "## c.Higher interest rate should be given to segments who can afford to pay on time , like Home Owners, Grade-A,B,C, Work experience 7,8,9 years\n",
    "## d. Education, Vacation and renewable energy are lower risk purposed where the LendingClub can actually provide attractive Schemes and good Payment EMIs to attract more customers\n",
    "## e. LendingClub need to be careful ,Grade D Applicants, they have moderately average Charged-Off count\n",
    "## f: Same goes for West Zone Applicants. \n",
    "## g: US ARMY , Bank of America , IBM, AT & T are in the TOP 4# BUSINESS DRIVER : Loans can be marketed easily to the TOP 10 companies\n"
   ]
  },
  {
   "cell_type": "markdown",
   "id": "520bb945",
   "metadata": {},
   "source": [
    " # ======================================================================================  --------------------------------------- [ > CONCLUSION < ]--------------------------------===================================================================\n",
    " \n",
    " \n",
    " \n",
    " \n"
   ]
  },
  {
   "cell_type": "markdown",
   "id": "5850d0fe",
   "metadata": {},
   "source": [
    "#### This was an enjoyable and challenging case study, Shasheesh Rane(Myself) have tried to include all we could and follow the Rubric as described by Upgrad. In terms of :\n",
    "#### a. DATA UNDERSTANDING\n",
    "#### b. DATA CLEANING AND MANIPULATION\n",
    "#### c. DATA ANALYSIS\n",
    "#### d. Presentations and Recommendations.\n",
    "#### e. Conciseness and readability of the code\n",
    "####  We also utilized functions for custom tasks , to not repeat the code, and labelled the Graphs, Plots correctly.\n",
    "#### We intend to do more case studies in future and also learn more thus being able to upskill ourselves.\n",
    "#### Our best sincere efforts were put in this assignment.\n",
    "\n",
    "#### Thanking you,\n",
    "\n",
    "# SHASHEESH RANE (Group Facilitator)\n",
    "\n"
   ]
  },
  {
   "cell_type": "code",
   "execution_count": null,
   "id": "edab7820",
   "metadata": {},
   "outputs": [],
   "source": []
  }
 ],
 "metadata": {
  "kernelspec": {
   "display_name": "Python 3 (ipykernel)",
   "language": "python",
   "name": "python3"
  },
  "language_info": {
   "codemirror_mode": {
    "name": "ipython",
    "version": 3
   },
   "file_extension": ".py",
   "mimetype": "text/x-python",
   "name": "python",
   "nbconvert_exporter": "python",
   "pygments_lexer": "ipython3",
   "version": "3.9.7"
  }
 },
 "nbformat": 4,
 "nbformat_minor": 5
}
